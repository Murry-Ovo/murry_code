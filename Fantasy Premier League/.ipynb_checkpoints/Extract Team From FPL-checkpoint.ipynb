{
 "cells": [
  {
   "cell_type": "code",
   "execution_count": 8,
   "metadata": {},
   "outputs": [
    {
     "ename": "SyntaxError",
     "evalue": "invalid syntax (<ipython-input-8-d29835bc6f21>, line 8)",
     "output_type": "error",
     "traceback": [
      "\u001b[1;36m  File \u001b[1;32m\"<ipython-input-8-d29835bc6f21>\"\u001b[1;36m, line \u001b[1;32m8\u001b[0m\n\u001b[1;33m    my_team_id =\u001b[0m\n\u001b[1;37m                 ^\u001b[0m\n\u001b[1;31mSyntaxError\u001b[0m\u001b[1;31m:\u001b[0m invalid syntax\n"
     ]
    }
   ],
   "source": [
    "import pandas as pd\n",
    "from datetime import datetime as dt\n",
    "import requests\n",
    "\n",
    "# Enter Login and Password and team id for your fantasy premier league team below \n",
    "login = ''\n",
    "password = ''\n",
    "my_team_id = \n",
    "export_path = 'C:\\\\Python CSV Output\\\\' \n",
    "\n",
    "## api for my team\n",
    "team_url = 'https://fantasy.premierleague.com/api/my-team/'+str(my_team_id)+'/'\n",
    "## url to login with my credentials\n",
    "login_url = 'https://users.premierleague.com/accounts/login/'\n",
    "\n",
    "session = requests.session()\n",
    "\n",
    "## Create session with login details for urls which require login ##\n",
    "## Add pasword and login email\n",
    "payload = {'password': password,\n",
    "           'login': login,\n",
    "           'redirect_uri': 'https://fantasy.premierleague.com/a/login',\n",
    "           'app': 'plfpl-web'}\n",
    "session.post(login_url, data=payload)\n",
    "print('--- Session created for '+login+ '---')\n",
    "\n",
    "def export_to_csv(dataframe, filename = 'FPL_data', path = 'C:\\\\Python CSV Output\\\\'):\n",
    "    print('')\n",
    "    print('----------------')\n",
    "    print('Start csv export')\n",
    "    filename = 'FPL_' + filename + '-' + str(dt.now().strftime(\"%Y%m%d-%H%M%S\"))\n",
    "    print('- filename: '+ filename)\n",
    "    path = path+filename+'.csv'\n",
    "    print('- save location: ' + path)\n",
    "    dataframe.to_csv(path, index = False, encoding=\"utf8\")\n",
    "    print('- successfully exported')\n",
    "    print('-----------------------')\n",
    "    print('')\n",
    "print(\"--- 'export_to_csv' function created ---\") \n",
    "\n",
    "## Converting that data to json then dataframe\n",
    "my_team_ses = (session.get('https://fantasy.premierleague.com/api/my-team/3366741'))\n",
    "my_team_json = my_team_ses.json()\n",
    "my_team_picks_df = pd.DataFrame(my_team_json['picks'])\n",
    "my_team_picks_df['potential_profit'] = my_team_picks_df.selling_price - my_team_picks_df.purchase_price\n",
    "my_team_picks_df['cost_in_mil'] = my_team_picks_df.selling_price / 10  \n",
    "print(\"--- 'my_team_picks_df' dataframe created ---\")  \n",
    "\n",
    "export_to_csv(my_team_picks_df, path = export_path)\n",
    "\n",
    "my_team_picks_df"
   ]
  }
 ],
 "metadata": {
  "kernelspec": {
   "display_name": "Python 3",
   "language": "python",
   "name": "python3"
  },
  "language_info": {
   "codemirror_mode": {
    "name": "ipython",
    "version": 3
   },
   "file_extension": ".py",
   "mimetype": "text/x-python",
   "name": "python",
   "nbconvert_exporter": "python",
   "pygments_lexer": "ipython3",
   "version": "3.7.1"
  }
 },
 "nbformat": 4,
 "nbformat_minor": 4
}
