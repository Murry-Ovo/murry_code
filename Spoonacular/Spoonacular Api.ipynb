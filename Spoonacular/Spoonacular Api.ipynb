{
 "cells": [
  {
   "cell_type": "code",
   "execution_count": 18,
   "metadata": {},
   "outputs": [
    {
     "name": "stdout",
     "output_type": "stream",
     "text": [
      "[{'id': 1001, 'aisle': 'Milk, Eggs, Other Dairy', 'image': 'butter-sliced.jpg', 'consistency': 'solid', 'name': 'butter', 'original': '1 tbsp butter', 'originalString': '1 tbsp butter', 'originalName': 'butter', 'amount': 1.0, 'unit': 'tbsp', 'meta': [], 'metaInformation': [], 'measures': {'us': {'amount': 1.0, 'unitShort': 'Tbsp', 'unitLong': 'Tbsp'}, 'metric': {'amount': 1.0, 'unitShort': 'Tbsp', 'unitLong': 'Tbsp'}}}, {'id': 10011135, 'aisle': 'Produce', 'image': 'cauliflower.jpg', 'consistency': 'solid', 'name': 'cauliflower florets', 'original': 'about 2 cups frozen cauliflower florets, thawed, cut into bite-sized pieces', 'originalString': 'about 2 cups frozen cauliflower florets, thawed, cut into bite-sized pieces', 'originalName': 'about frozen cauliflower florets, thawed, cut into bite-sized pieces', 'amount': 2.0, 'unit': 'cups', 'meta': ['frozen', 'thawed', 'cut into bite-sized pieces'], 'metaInformation': ['frozen', 'thawed', 'cut into bite-sized pieces'], 'measures': {'us': {'amount': 2.0, 'unitShort': 'cups', 'unitLong': 'cups'}, 'metric': {'amount': 473.176, 'unitShort': 'ml', 'unitLong': 'milliliters'}}}, {'id': 1041009, 'aisle': 'Cheese', 'image': 'cheddar-cheese.png', 'consistency': 'solid', 'name': 'cheese', 'original': '2 tbsp grated cheese (I used romano)', 'originalString': '2 tbsp grated cheese (I used romano)', 'originalName': 'grated cheese (I used romano)', 'amount': 2.0, 'unit': 'tbsp', 'meta': ['grated', '(I used romano)'], 'metaInformation': ['grated', '(I used romano)'], 'measures': {'us': {'amount': 2.0, 'unitShort': 'Tbsps', 'unitLong': 'Tbsps'}, 'metric': {'amount': 2.0, 'unitShort': 'Tbsps', 'unitLong': 'Tbsps'}}}, {'id': 1034053, 'aisle': 'Oil, Vinegar, Salad Dressing', 'image': 'olive-oil.jpg', 'consistency': 'liquid', 'name': 'extra virgin olive oil', 'original': '1-2 tbsp extra virgin olive oil', 'originalString': '1-2 tbsp extra virgin olive oil', 'originalName': 'extra virgin olive oil', 'amount': 1.0, 'unit': 'tbsp', 'meta': [], 'metaInformation': [], 'measures': {'us': {'amount': 1.0, 'unitShort': 'Tbsp', 'unitLong': 'Tbsp'}, 'metric': {'amount': 1.0, 'unitShort': 'Tbsp', 'unitLong': 'Tbsp'}}}, {'id': 11215, 'aisle': 'Produce', 'image': 'garlic.png', 'consistency': 'solid', 'name': 'garlic', 'original': '5-6 cloves garlic', 'originalString': '5-6 cloves garlic', 'originalName': 'garlic', 'amount': 5.0, 'unit': 'cloves', 'meta': [], 'metaInformation': [], 'measures': {'us': {'amount': 5.0, 'unitShort': 'cloves', 'unitLong': 'cloves'}, 'metric': {'amount': 5.0, 'unitShort': 'cloves', 'unitLong': 'cloves'}}}, {'id': 20420, 'aisle': 'Pasta and Rice', 'image': 'fusilli.jpg', 'consistency': 'solid', 'name': 'pasta', 'original': '6-8 ounces pasta (I used linguine)', 'originalString': '6-8 ounces pasta (I used linguine)', 'originalName': 'pasta (I used linguine)', 'amount': 6.0, 'unit': 'ounces', 'meta': ['(I used linguine)'], 'metaInformation': ['(I used linguine)'], 'measures': {'us': {'amount': 6.0, 'unitShort': 'oz', 'unitLong': 'ounces'}, 'metric': {'amount': 170.097, 'unitShort': 'g', 'unitLong': 'grams'}}}, {'id': 1032009, 'aisle': 'Spices and Seasonings', 'image': 'red-pepper-flakes.jpg', 'consistency': 'solid', 'name': 'red pepper flakes', 'original': 'couple of pinches red pepper flakes, optional', 'originalString': 'couple of pinches red pepper flakes, optional', 'originalName': 'couple of red pepper flakes, optional', 'amount': 2.0, 'unit': 'pinches', 'meta': ['red'], 'metaInformation': ['red'], 'measures': {'us': {'amount': 2.0, 'unitShort': 'pinches', 'unitLong': 'pinches'}, 'metric': {'amount': 2.0, 'unitShort': 'pinches', 'unitLong': 'pinches'}}}, {'id': 1102047, 'aisle': 'Spices and Seasonings', 'image': 'salt-and-pepper.jpg', 'consistency': 'solid', 'name': 'salt and pepper', 'original': 'salt and pepper, to taste', 'originalString': 'salt and pepper, to taste', 'originalName': 'salt and pepper, to taste', 'amount': 2.0, 'unit': 'servings', 'meta': ['to taste'], 'metaInformation': ['to taste'], 'measures': {'us': {'amount': 2.0, 'unitShort': 'servings', 'unitLong': 'servings'}, 'metric': {'amount': 2.0, 'unitShort': 'servings', 'unitLong': 'servings'}}}, {'id': 11291, 'aisle': 'Produce', 'image': 'spring-onions.jpg', 'consistency': 'solid', 'name': 'scallions', 'original': '3 scallions, chopped, white and green parts separated', 'originalString': '3 scallions, chopped, white and green parts separated', 'originalName': 'scallions, chopped, white and green parts separated', 'amount': 3.0, 'unit': '', 'meta': ['white', 'green', 'separated', 'chopped'], 'metaInformation': ['white', 'green', 'separated', 'chopped'], 'measures': {'us': {'amount': 3.0, 'unitShort': '', 'unitLong': ''}, 'metric': {'amount': 3.0, 'unitShort': '', 'unitLong': ''}}}, {'id': 14106, 'aisle': 'Alcoholic Beverages', 'image': 'white-wine.jpg', 'consistency': 'liquid', 'name': 'white wine', 'original': '2-3 tbsp white wine', 'originalString': '2-3 tbsp white wine', 'originalName': 'white wine', 'amount': 2.0, 'unit': 'tbsp', 'meta': ['white'], 'metaInformation': ['white'], 'measures': {'us': {'amount': 2.0, 'unitShort': 'Tbsps', 'unitLong': 'Tbsps'}, 'metric': {'amount': 2.0, 'unitShort': 'Tbsps', 'unitLong': 'Tbsps'}}}, {'id': 99025, 'aisle': 'Pasta and Rice', 'image': 'breadcrumbs.jpg', 'consistency': 'solid', 'name': 'whole wheat bread crumbs', 'original': '1/4 cup whole wheat bread crumbs (I used panko)', 'originalString': '1/4 cup whole wheat bread crumbs (I used panko)', 'originalName': 'whole wheat bread crumbs (I used panko)', 'amount': 0.25, 'unit': 'cup', 'meta': ['whole wheat', '(I used panko)'], 'metaInformation': ['whole wheat', '(I used panko)'], 'measures': {'us': {'amount': 0.25, 'unitShort': 'cups', 'unitLong': 'cups'}, 'metric': {'amount': 59.147, 'unitShort': 'ml', 'unitLong': 'milliliters'}}}]\n"
     ]
    }
   ],
   "source": [
    "import requests\n",
    "import pandas as pd \n",
    "\n",
    "my_api_key = 'a8e0328da6ec439dbd723ab507089149'\n",
    "api_key_varialbe = '?apiKey='+my_api_key\n",
    "\n",
    "test_url = 'https://api.spoonacular.com/recipes/716429/information'+api_key_varialbe\n",
    "\n",
    "test_req = requests.get(test_url)\n",
    "test_json = test_req.json()\n",
    "\n",
    "test_json.keys()\n",
    "# for i in test_json['extendedIngredients']:\n",
    "#     ingredient = i.name\n",
    "#     print(i.name)\n",
    "\n",
    "print(test_json['extendedIngredients'])\n",
    "\n",
    "test_list = test_json['extendedIngredients']\n",
    "\n",
    "# print(test_json)"
   ]
  },
  {
   "cell_type": "code",
   "execution_count": 29,
   "metadata": {},
   "outputs": [
    {
     "data": {
      "text/plain": [
       "['w',\n",
       " 'h',\n",
       " 'o',\n",
       " 'l',\n",
       " 'e',\n",
       " ' ',\n",
       " 'w',\n",
       " 'h',\n",
       " 'e',\n",
       " 'a',\n",
       " 't',\n",
       " ' ',\n",
       " 'b',\n",
       " 'r',\n",
       " 'e',\n",
       " 'a',\n",
       " 'd',\n",
       " ' ',\n",
       " 'c',\n",
       " 'r',\n",
       " 'u',\n",
       " 'm',\n",
       " 'b',\n",
       " 's']"
      ]
     },
     "execution_count": 29,
     "metadata": {},
     "output_type": "execute_result"
    }
   ],
   "source": [
    "import json\n",
    "import pandas as pd\n",
    "\n",
    "for i in test_list:\n",
    "    my_list = []\n",
    "    my_dict = i\n",
    "    name = list(my_dict['name'])\n",
    "    my_list = my_list + name\n",
    "\n",
    "my_list    \n",
    "\n",
    "\n",
    "# for i in test_list:\n",
    "#     my_df = \n",
    "#     my_dict = i\n",
    "#     my_df_row = pd.DataFrame(my_dict)"
   ]
  }
 ],
 "metadata": {
  "kernelspec": {
   "display_name": "Python 3",
   "language": "python",
   "name": "python3"
  },
  "language_info": {
   "codemirror_mode": {
    "name": "ipython",
    "version": 3
   },
   "file_extension": ".py",
   "mimetype": "text/x-python",
   "name": "python",
   "nbconvert_exporter": "python",
   "pygments_lexer": "ipython3",
   "version": "3.7.6"
  }
 },
 "nbformat": 4,
 "nbformat_minor": 4
}
