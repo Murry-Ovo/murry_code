{
 "cells": [
  {
   "cell_type": "markdown",
   "metadata": {},
   "source": [
    "# Advent of Code 2019\n",
    "\n",
    "https://adventofcode.com/2019\n",
    "\n",
    "### Day One - Part One\n",
    "\n",
    "We are given the mass of a bunch of modules, we need to calculate the amount of fuel required to launch the module. \n",
    "\n",
    "To find the fuel required for a module, take its mass, divide by three, round down, and subtract 2.\n",
    "\n",
    "Example:\n",
    "```\n",
    "For a mass of 12, divide by 3 and round down to get 4, then subtract 2 to get 2.\n",
    "For a mass of 14, dividing by 3 and rounding down still yields 4, so the fuel required is also 2.\n",
    "For a mass of 1969, the fuel required is 654.\n",
    "For a mass of 100756, the fuel required is 33583.\n",
    "```"
   ]
  },
  {
   "cell_type": "code",
   "execution_count": null,
   "metadata": {},
   "outputs": [],
   "source": [
    "import pandas as pd\n",
    "import math\n",
    "\n",
    "# upload csv of numbers into a dataframe\n",
    "upload_path = r'C:\\Users\\andrew.morris\\Documents\\GitHub\\murry_code\\Advent of Code 2019\\\\' \n",
    "day_1_filename = \"day_one_mass.csv\"\n",
    "mass_df = pd.read_csv(upload_path+day_1_filename) \n",
    "\n",
    "# create a list from the values in dataframe\n",
    "mass_list = mass_df.values.tolist()\n",
    "\n",
    "# creating an empty list to append with each modules fuel requirements\n",
    "fuel_required_list = []\n",
    "\n",
    "# having to use a nested for loop as the values are within a list of lists\n",
    "for i in mass_list:\n",
    "    for j in i:\n",
    "        fuel_required = math.floor(j/3)-2\n",
    "        fuel_required_list.append(fuel_required)\n",
    "\n",
    "answer = sum(fuel_required_list)    \n",
    "answer    "
   ]
  },
  {
   "cell_type": "markdown",
   "metadata": {},
   "source": [
    "### Day One - Part Two\n",
    "\n",
    "Fuel itself requires fuel just like a module - take its mass, divide by three, round down, and subtract 2. However, that fuel also requires fuel, and that fuel requires fuel, and so on. Any mass that would require negative fuel should instead be treated as if it requires zero fuel; the remaining mass, if any, is instead handled by wishing really hard, which has no mass and is outside the scope of this calculation.\n",
    "\n",
    "So, for each module mass, calculate its fuel and add it to the total. Then, treat the fuel amount you just calculated as the input mass and repeat the process, continuing until a fuel requirement is zero or negative. For example:\n",
    "\n",
    "```\n",
    "- A module of mass 14 requires 2 fuel. This fuel requires no further fuel (2 divided by 3 and rounded down is 0, which would call for a negative fuel), so the total fuel required is still just 2.\n",
    "\n",
    "- At first, a module of mass 1969 requires 654 fuel. Then, this fuel requires 216 more fuel (654 / 3 - 2). 216 then requires 70 more fuel, which requires 21 fuel, which requires 5 fuel, which requires no further fuel. So, the total fuel required for a module of mass 1969 is 654 + 216 + 70 + 21 + 5 = 966.\n",
    "\n",
    "- The fuel required by a module of mass 100756 and its fuel is: 33583 + 11192 + 3728 + 1240 + 411 + 135 + 43 + 12 + 2 = 50346.\n",
    "```\n",
    "\n",
    "We are looking for the sum of all the fuel requirements."
   ]
  },
  {
   "cell_type": "code",
   "execution_count": 57,
   "metadata": {},
   "outputs": [
    {
     "name": "stdout",
     "output_type": "stream",
     "text": [
      "4717699\n"
     ]
    }
   ],
   "source": [
    "import pandas as pd\n",
    "import math\n",
    "\n",
    "# upload csv of numbers into a dataframe\n",
    "upload_path = r'C:\\Users\\andrew.morris\\Documents\\GitHub\\murry_code\\Advent of Code 2019\\\\' \n",
    "day_1_filename = \"day_one_mass.csv\"\n",
    "mass_df = pd.read_csv(upload_path+day_1_filename) \n",
    "\n",
    "# create a list from the values in dataframe\n",
    "mass_list = mass_df.values.tolist()\n",
    "\n",
    "# having to use nested for loop again as when converting from a dataframe to a list it has become a list of lists \n",
    "fuel_mass_list = []\n",
    "for mass_list_list in mass_list:\n",
    "    for i in mass_list_list:       \n",
    "        # print('module mass: ' + str(mass))\n",
    "        fuel_mass = math.floor(i/3)-2\n",
    "        # using a while loop to specify whilst the fuel mass if greater than 0 \n",
    "        # to keep calculating the fuel mass of the fuel mass and adding it onto the fuel mass list\n",
    "        while fuel_mass > 0:\n",
    "            # print('fuel mass: ' + str(fuel_mass))\n",
    "            fuel_mass_list.append(fuel_mass)\n",
    "            fuel_mass = math.floor(fuel_mass/3)-2\n",
    "            # print('fuel mass list:' + str(fuel_mass_list))    \n",
    "\n",
    "answer = sum(fuel_mass_list)\n",
    "print(answer)    \n"
   ]
  },
  {
   "cell_type": "markdown",
   "metadata": {},
   "source": [
    "### Day Two - Part One\n",
    "\n",
    "We are given a list of intergers called an intcode program , the position and values of the integers provide instruction on how to change the list of integers. \n",
    "\n",
    "An Intcode program is a list of integers separated by commas (like 1,0,0,3,99). To run one, start by looking at the first integer (called position 0). Here, you will find an opcode - either 1, 2, or 99. The opcode indicates what to do; for example, 99 means that the program is finished and should immediately halt. Encountering an unknown opcode means something went wrong. \n",
    "\n",
    "Opcode 1 adds together numbers read from two positions and stores the result in a third position. The three integers immediately after the opcode tell you these three positions - the first two indicate the positions from which you should read the input values, and the third indicates the position at which the output should be stored.\n",
    "\n",
    "Opcode 2 works exactly like opcode 1, except it multiplies the two inputs instead of adding them. Again, the three integers after the opcode indicate where the inputs and outputs are, not their values.\n",
    "\n",
    "Once you're done processing an opcode, move to the next one by stepping forward 4 positions.\n",
    "\n",
    "Examples:\n",
    "```\n",
    "- 1,0,0,0,99 becomes 2,0,0,0,99 (1 + 1 = 2).\n",
    "- 2,3,0,3,99 becomes 2,3,0,6,99 (3 * 2 = 6).\n",
    "- 2,4,4,5,99,0 becomes 2,4,4,5,99,9801 (99 * 99 = 9801).\n",
    "- 1,1,1,4,99,5,6,0,99 becomes 30,1,1,4,2,5,6,0,99.\n",
    "```"
   ]
  },
  {
   "cell_type": "code",
   "execution_count": 107,
   "metadata": {},
   "outputs": [
    {
     "name": "stdout",
     "output_type": "stream",
     "text": [
      "original list: [1, 0, 0, 3, 1, 1, 2, 3, 1, 3, 4, 3, 1, 5, 0, 3, 2, 13, 1, 19, 1, 19, 10, 23, 1, 23, 6, 27, 1, 6, 27, 31, 1, 13, 31, 35, 1, 13, 35, 39, 1, 39, 13, 43, 2, 43, 9, 47, 2, 6, 47, 51, 1, 51, 9, 55, 1, 55, 9, 59, 1, 59, 6, 63, 1, 9, 63, 67, 2, 67, 10, 71, 2, 71, 13, 75, 1, 10, 75, 79, 2, 10, 79, 83, 1, 83, 6, 87, 2, 87, 10, 91, 1, 91, 6, 95, 1, 95, 13, 99, 1, 99, 13, 103, 2, 103, 9, 107, 2, 107, 10, 111, 1, 5, 111, 115, 2, 115, 9, 119, 1, 5, 119, 123, 1, 123, 9, 127, 1, 127, 2, 131, 1, 5, 131, 0, 99, 2, 0, 14, 0]\n",
      "\n",
      "Amended positions 1 and 2: [1, 12, 2, 3, 1, 1, 2, 3, 1, 3, 4, 3, 1, 5, 0, 3, 2, 13, 1, 19, 1, 19, 10, 23, 1, 23, 6, 27, 1, 6, 27, 31, 1, 13, 31, 35, 1, 13, 35, 39, 1, 39, 13, 43, 2, 43, 9, 47, 2, 6, 47, 51, 1, 51, 9, 55, 1, 55, 9, 59, 1, 59, 6, 63, 1, 9, 63, 67, 2, 67, 10, 71, 2, 71, 13, 75, 1, 10, 75, 79, 2, 10, 79, 83, 1, 83, 6, 87, 2, 87, 10, 91, 1, 91, 6, 95, 1, 95, 13, 99, 1, 99, 13, 103, 2, 103, 9, 107, 2, 107, 10, 111, 1, 5, 111, 115, 2, 115, 9, 119, 1, 5, 119, 123, 1, 123, 9, 127, 1, 127, 2, 131, 1, 5, 131, 0, 99, 2, 0, 14, 0]\n",
      "\n",
      "final program list: [5866714, 12, 2, 2, 1, 1, 2, 3, 1, 3, 4, 3, 1, 5, 0, 3, 2, 13, 1, 60, 1, 19, 10, 64, 1, 23, 6, 66, 1, 6, 27, 68, 1, 13, 31, 73, 1, 13, 35, 78, 1, 39, 13, 83, 2, 43, 9, 249, 2, 6, 47, 498, 1, 51, 9, 501, 1, 55, 9, 504, 1, 59, 6, 506, 1, 9, 63, 509, 2, 67, 10, 2036, 2, 71, 13, 10180, 1, 10, 75, 10184, 2, 10, 79, 40736, 1, 83, 6, 40738, 2, 87, 10, 162952, 1, 91, 6, 162954, 1, 95, 13, 162959, 1, 99, 13, 162964, 2, 103, 9, 488892, 2, 107, 10, 1955568, 1, 5, 111, 1955569, 2, 115, 9, 5866707, 1, 5, 119, 5866708, 1, 123, 9, 5866711, 1, 127, 2, 5866713, 1, 5, 131, 0, 99, 2, 0, 14, 0]\n",
      "\n",
      "Answer = 5866714\n"
     ]
    }
   ],
   "source": [
    "program_list = [1,0,0,3,1,1,2,3,1,3,4,3,1,5,0,3,2,13,1,19,1,19,10,23,1,23,6,27,1,6,27,31,1,13,31,35,1,13,35,39,1,39,13,43,2,43,9,47,2,6,47,51,1,51,9,55,1,55,9,59,1,59,6,63,1,9,63,67,2,67,10,71,2,71,13,75,1,10,75,79,2,10,79,83,1,83,6,87,2,87,10,91,1,91,6,95,1,95,13,99,1,99,13,103,2,103,9,107,2,107,10,111,1,5,111,115,2,115,9,119,1,5,119,123,1,123,9,127,1,127,2,131,1,5,131,0,99,2,0,14,0]\n",
    "\n",
    "print('original list: ' + str(program_list))\n",
    "print('')\n",
    "\n",
    "program_list[1] = 12\n",
    "program_list[2] = 2\n",
    "print('Amended positions 1 and 2: ' + str(program_list))\n",
    "print('')\n",
    "\n",
    "# program_list = [1,9,10,3,2,3,11,0,99,30,40,50]\n",
    "# program_list = [1,1,1,4,99,5,6,0,99]\n",
    "\n",
    "opcode_position = 0\n",
    "opcode = program_list[opcode_position]\n",
    "# print('opcode_position     : ' + str(opcode_position))\n",
    "# print('opcode              : ' + str(opcode))\n",
    "    \n",
    "while opcode != 99:\n",
    "    if opcode == 1:\n",
    "        input_1_position = program_list[opcode_position + 1]       \n",
    "        input_1 = program_list[input_1_position]        \n",
    "        input_2_position = program_list[opcode_position + 2]    \n",
    "        input_2 = program_list[input_2_position]\n",
    "        replacement_int = input_1 + input_2\n",
    "        replacement_position = program_list[opcode_position + 3]\n",
    "        program_list[replacement_position] = replacement_int\n",
    "#         print('input_1_position    : ' + str(input_1_position))\n",
    "#         print('input_1             : ' + str(input_1))\n",
    "#         print('input_2_position    : ' + str(input_2_position)) \n",
    "#         print('input_2             : ' + str(input_2))\n",
    "#         print('replacement_position: ' + str(replacement_position))        \n",
    "#         print('replacement_int     : ' + str(replacement_int))\n",
    "        \n",
    "        opcode_position = opcode_position + 4\n",
    "        opcode = program_list[opcode_position]\n",
    "#         print('')\n",
    "#         print('new opcode position : ' + str(opcode_position))\n",
    "#         print('new opcode          : ' + str(opcode))\n",
    "#         print('')\n",
    "        \n",
    "    if opcode == 2:\n",
    "        input_1_position = program_list[opcode_position + 1]       \n",
    "        input_1 = program_list[input_1_position]        \n",
    "        input_2_position = program_list[opcode_position + 2]    \n",
    "        input_2 = program_list[input_2_position]\n",
    "        replacement_int = input_1 * input_2\n",
    "        replacement_position = program_list[opcode_position + 3]\n",
    "        program_list[replacement_position] = replacement_int\n",
    "#         print('input_1_position    : ' + str(input_1_position))\n",
    "#         print('input_1             : ' + str(input_1))\n",
    "#         print('input_2_position    : ' + str(input_2_position)) \n",
    "#         print('input_2             : ' + str(input_2))\n",
    "#         print('replacement_position: ' + str(replacement_position))        \n",
    "#         print('replacement_int     : ' + str(replacement_int))\n",
    "        \n",
    "        opcode_position = opcode_position + 4\n",
    "        opcode = program_list[opcode_position]\n",
    "#         print('')\n",
    "#         print('new opcode position : ' + str(opcode_position))\n",
    "#         print('new opcode          : ' + str(opcode))\n",
    "#         print('')\n",
    "        \n",
    "print('final program list: ' + str(program_list))\n",
    "print('')\n",
    "answer = program_list[0]\n",
    "print('Answer = ' + str(answer))"
   ]
  },
  {
   "cell_type": "markdown",
   "metadata": {},
   "source": [
    "### Day Two - Part Two"
   ]
  },
  {
   "cell_type": "code",
   "execution_count": null,
   "metadata": {},
   "outputs": [],
   "source": []
  }
 ],
 "metadata": {
  "kernelspec": {
   "display_name": "Python 3",
   "language": "python",
   "name": "python3"
  },
  "language_info": {
   "codemirror_mode": {
    "name": "ipython",
    "version": 3
   },
   "file_extension": ".py",
   "mimetype": "text/x-python",
   "name": "python",
   "nbconvert_exporter": "python",
   "pygments_lexer": "ipython3",
   "version": "3.7.1"
  }
 },
 "nbformat": 4,
 "nbformat_minor": 4
}
