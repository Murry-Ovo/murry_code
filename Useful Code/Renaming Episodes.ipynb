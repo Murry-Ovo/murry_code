{
 "cells": [
  {
   "cell_type": "code",
   "execution_count": 33,
   "metadata": {},
   "outputs": [],
   "source": [
    "import os\n",
    "\n",
    "# Function to rename multiple files \n",
    "def main(show_name, file_path, season): \n",
    "    ep_number = 1\n",
    "    for filename in os.listdir(file_path):\n",
    "        # Add leading zero to episode number if under 10\n",
    "        if ep_number < 10:\n",
    "            ep_number = '0' + str(ep_number)\n",
    "        else:\n",
    "            ep_number = str(ep_number)\n",
    "            \n",
    "        # extract episode name from filename\n",
    "        episode_name_start = filename.find('_-_') - 3\n",
    "        episode_name = filename[episode_name_start:]     \n",
    "        new_filename = show_name +'-S' + season + 'E' + ep_number + '-' + episode_name\n",
    "        \n",
    "        # new filename if not extracting episode name\n",
    "        # new_filename = show_name +'-S + season + 'E' + ep_number + '.mkv'\n",
    "        \n",
    "        # source\n",
    "        src = file_path + filename \n",
    "        # destination\n",
    "        dst = file_path + new_filename \n",
    "        \n",
    "        # renaming all the files\n",
    "        os.rename(src, dst)\n",
    "        \n",
    "        # increasing episode number\n",
    "        ep_number = int(ep_number) + 1\n",
    "        \n",
    "if __name__ == '__main__': \n",
    "    \n",
    "#     file_path = 'D:\\\\Film and TV\\\\TV\\\\__Uploaded To Plex\\\\Dragonball GT\\\\Season 5\\\\'\n",
    "#     show_name = 'Dragonball_GT'\n",
    "#     season    = '05'\n",
    "    \n",
    "    # Calling main() function \n",
    "#     main(show_name,\n",
    "#          file_path,\n",
    "#          season) "
   ]
  }
 ],
 "metadata": {
  "kernelspec": {
   "display_name": "Python 3",
   "language": "python",
   "name": "python3"
  },
  "language_info": {
   "codemirror_mode": {
    "name": "ipython",
    "version": 3
   },
   "file_extension": ".py",
   "mimetype": "text/x-python",
   "name": "python",
   "nbconvert_exporter": "python",
   "pygments_lexer": "ipython3",
   "version": "3.7.6"
  }
 },
 "nbformat": 4,
 "nbformat_minor": 4
}
