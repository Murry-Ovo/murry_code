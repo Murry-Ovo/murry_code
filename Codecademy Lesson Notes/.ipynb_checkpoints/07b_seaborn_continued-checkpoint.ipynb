{
 "cells": [
  {
   "cell_type": "markdown",
   "metadata": {},
   "source": [
    "### Plotting Distributions with Seaborn\n",
    "\n",
    "Seaborn's strength is in visualizing statistical calculations. Seaborn includes several plots that allow you to graph univariate distribution, including KDE plots, box plots, and violin plots. Explore the Jupyter notebook below to get an understanding of how each plot works."
   ]
  },
  {
   "cell_type": "markdown",
   "metadata": {},
   "source": [
    "First, we'll read in four datasets. In order to plot them in Seaborn, we'll combine them using NumPy's .concatenate() function into a Pandas DataFrame."
   ]
  },
  {
   "cell_type": "code",
   "execution_count": null,
   "metadata": {},
   "outputs": [],
   "source": [
    "import pandas as pd\n",
    "import numpy as np\n",
    "from matplotlib import pyplot as plt\n",
    "import seaborn as sns\n",
    "\n",
    "# Take in the data from the CSVs as NumPy arrays:\n",
    "set_one = np.genfromtxt(r\"C:\\Users\\andrew.morris\\Documents\\GitHub\\murry_code\\Codecademy Lesson Notes\\test data\\07b_test_dataset1.csv\", delimiter=\",\")\n",
    "set_two = np.genfromtxt(r\"C:\\Users\\andrew.morris\\Documents\\GitHub\\murry_code\\Codecademy Lesson Notes\\test data\\07b_test_dataset2.csv\", delimiter=\",\")\n",
    "set_three = np.genfromtxt(r\"C:\\Users\\andrew.morris\\Documents\\GitHub\\murry_code\\Codecademy Lesson Notes\\test data\\07b_test_dataset3.csv\", delimiter=\",\")\n",
    "set_four = np.genfromtxt(r\"C:\\Users\\andrew.morris\\Documents\\GitHub\\murry_code\\Codecademy Lesson Notes\\test data\\07b_test_dataset4.csv\", delimiter=\",\")\n",
    "\n",
    "# Creating a Pandas DataFrame:\n",
    "n=500\n",
    "df = pd.DataFrame({\n",
    "    \"label\": [\"set_one\"] * n + [\"set_two\"] * n + [\"set_three\"] * n + [\"set_four\"] * n,\n",
    "    \"value\": np.concatenate([set_one, set_two, set_three, set_four])\n",
    "})\n"
   ]
  },
  {
   "cell_type": "markdown",
   "metadata": {},
   "source": [
    "Explore the dataset using print(df)"
   ]
  },
  {
   "cell_type": "code",
   "execution_count": null,
   "metadata": {},
   "outputs": [],
   "source": [
    "print(df)"
   ]
  },
  {
   "cell_type": "markdown",
   "metadata": {},
   "source": [
    "#### Bar Charts (they can hide information)\n",
    "\n",
    "\n",
    "The following code converts the dataframe created earlier into a barchart:"
   ]
  },
  {
   "cell_type": "code",
   "execution_count": null,
   "metadata": {},
   "outputs": [],
   "source": [
    "sns.barplot(data = df,\n",
    "            x = 'label',\n",
    "            y = 'value')\n",
    "plt.show()      "
   ]
  },
  {
   "cell_type": "markdown",
   "metadata": {},
   "source": [
    "We can get a lot of information from these bar charts, but we can’t get everything. For example, what are the minimum and maximum values of these datasets? How spread out is this data?\n",
    "\n",
    "While we may not see this information in our bar chart, these differences might be significant and worth understanding better."
   ]
  },
  {
   "cell_type": "markdown",
   "metadata": {},
   "source": [
    "#### KDE Plots - What are they?\n",
    "\n",
    "Bar plots can tell us what the mean of our dataset is, but they don’t give us any hints as to the distribution of the dataset values. For all we know, the data could be clustered around the mean or spread out evenly across the entire range.\n",
    "\n",
    "To find out more about each of these datasets, we’ll need to examine their distributions. A common way of doing so is by plotting the data as a histogram, but histograms have their drawback as well.\n",
    "\n",
    "Seaborn offers another option for graphing distributions: KDE Plots.\n",
    "\n",
    "KDE stands for Kernel Density Estimator. A KDE plot gives us the sense of a univariate as a curve. A univariate dataset only has one variable and is also referred to as being one-dimensional, as opposed to bivariate or two-dimensional datasets which have two variables.\n",
    "\n",
    "KDE plots are preferable to histograms because depending on how you group the data into bins and the width of the bins, you can draw wildly different conclusions about the shape of the data. Using a KDE plot can mitigate these issues, because they smooth the datasets, allow us to generalize over the shape of our data, and aren’t beholden to specific data points."
   ]
  },
  {
   "cell_type": "markdown",
   "metadata": {},
   "source": [
    "#### KDE Plots in Seaborn\n",
    "\n",
    "To plot a KDE in Seaborn, we use the method sns.kdeplot().\n",
    "\n",
    "A KDE plot takes the following arguments:\n",
    "\n",
    "* data - the univariate dataset being visualized, like a Pandas DataFrame, Python list, or NumPy array\n",
    "* shade - a boolean that determines whether or not the space underneath the curve is shaded\n",
    "\n",
    "##### example code:\n",
    "```python\n",
    "sns.kdeplot(dataset1, shade=True)\n",
    "sns.kdeplot(dataset2, shade=True)\n",
    "sns.kdeplot(dataset3, shade=True)\n",
    "plt.legend()\n",
    "plt.show()\n",
    "```\n",
    "\n",
    "Let’s examine the KDE plots of our three datasets:"
   ]
  },
  {
   "cell_type": "code",
   "execution_count": null,
   "metadata": {},
   "outputs": [],
   "source": [
    "# using the datasets loading in earlier\n",
    "\n",
    "sns.kdeplot(set_one, shade=True)\n",
    "sns.kdeplot(set_two, shade=True)\n",
    "sns.kdeplot(set_three, shade=True)\n",
    "sns.kdeplot(set_four, shade=True)\n",
    "plt.show()\n"
   ]
  },
  {
   "cell_type": "markdown",
   "metadata": {},
   "source": [
    "#### Box Plots - What are they?\n",
    "While a KDE plot can tell us about the shape of the data, it’s cumbersome to compare multiple KDE plots at once. They also can’t tell us other statistical information, like the values of outliers.\n",
    "\n",
    "The box plot (also known as a box-and-whisker plot) can’t tell us about how our dataset is distributed, like a KDE plot. But it shows us the range of our dataset, gives us an idea about where a significant portion of our data lies, and whether or not any outliers are present.\n",
    "\n",
    "Let’s examine how we interpret a box plot:\n",
    "\n",
    "* The box represents the interquartile range\n",
    "* The line in the middle of the box is the median\n",
    "* The end lines are the first and third quartiles\n",
    "* The diamonds show outliers"
   ]
  },
  {
   "cell_type": "markdown",
   "metadata": {},
   "source": [
    "#### Box Plots In Seaborn\n",
    "One advantage of the box plot over the KDE plot is that in Seaborn, it is easy to plot multiples and compare distributions.\n",
    "\n",
    "The box plot does a good job of showing certain differences, the different between Dataset 1 and Dataset 2; however, it does not show that Dataset 3 is bimodal.\n",
    "\n",
    "To plot a box plot in Seaborn, we use the method sns.boxplot().\n",
    "\n",
    "A box plot takes the following arguments:\n",
    "\n",
    "* data - the dataset we’re plotting, like a DataFrame, list, or an array\n",
    "* x - a one-dimensional set of values, like a Series, list, or array\n",
    "* y - a second set of one-dimensional data\n",
    "\n",
    "##### example code:\n",
    "```python\n",
    "sns.boxplot(data=df, x='label', y='value')\n",
    "plt.show()\n",
    "```\n",
    "\n",
    "If you use a Pandas Series for the x and y values, the Series will also generate the axis labels. For example, if you use the value Series as your y value data, Seaborn will automatically apply that name as the y-axis label."
   ]
  },
  {
   "cell_type": "code",
   "execution_count": null,
   "metadata": {},
   "outputs": [],
   "source": [
    "# using the datasets from earlier:\n",
    "\n",
    "sns.boxplot(data = df, x = 'label', y = 'value')\n",
    "plt.show()\n"
   ]
  },
  {
   "cell_type": "markdown",
   "metadata": {},
   "source": [
    "#### Violin Plots\n",
    "\n",
    "Violin Plots are a powerful graphing tool that allows you to compare multiple distributions at once.\n",
    "\n",
    "To plot a violin plot in Seaborn, use the method `sns.violinplot()`.\n",
    "\n",
    "There are several options for passing in relevant data to the x and y parameters:\n",
    "\n",
    "* data - the dataset that we’re plotting, such as a list, DataFrame, or array\n",
    "* x, y, and hue - a one-dimensional set of data, such as a Series, list, or array\n",
    "* any of the parameters to the function `sns.boxplot()`\n",
    "\n",
    "example code:\n",
    "\n",
    "```python\n",
    "sns.violinplot(data=df, x=\"label\", y=\"value\")\n",
    "plt.show()\n",
    "```"
   ]
  },
  {
   "cell_type": "code",
   "execution_count": null,
   "metadata": {},
   "outputs": [],
   "source": [
    "import pandas as pd\n",
    "import numpy as np\n",
    "from matplotlib import pyplot as plt\n",
    "import seaborn as sns\n",
    "\n",
    "# Setting styles:\n",
    "sns.set_style(\"darkgrid\")\n",
    "sns.set_palette(\"pastel\")\n",
    "\n",
    "# Add your code below:\n",
    "sns.violinplot(data=df, x=\"label\", y=\"value\")\n",
    "plt.show()"
   ]
  }
 ],
 "metadata": {
  "kernelspec": {
   "display_name": "Python 3",
   "language": "python",
   "name": "python3"
  },
  "language_info": {
   "codemirror_mode": {
    "name": "ipython",
    "version": 3
   },
   "file_extension": ".py",
   "mimetype": "text/x-python",
   "name": "python",
   "nbconvert_exporter": "python",
   "pygments_lexer": "ipython3",
   "version": "3.7.1"
  }
 },
 "nbformat": 4,
 "nbformat_minor": 4
}
