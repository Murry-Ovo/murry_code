{
 "cells": [
  {
   "cell_type": "code",
   "execution_count": null,
   "metadata": {},
   "outputs": [],
   "source": [
    "#1\n",
    "def large_power(base, exponent):\n",
    "  if base**exponent > 5000:\n",
    "    return True\n",
    "  else:\n",
    "    return False~\n",
    "\n",
    "#2\n",
    "def over_budget(budget, food_bill, electricity_bill, internet_bill,rent):\n",
    "  if budget < ( food_bill + electricity_bill + internet_bill + rent):\n",
    "    return True\n",
    "  else:\n",
    "    return False\n",
    "\n",
    "#3\n",
    "def twice_as_large(num1, num2):\n",
    "  if num1 > (num2 * 2):\n",
    "    return True\n",
    "  else:\n",
    "    return False\n",
    "  \n",
    "#4\n",
    "def divisible_by_ten(num):\n",
    "  if num%10 == 0:\n",
    "    return True\n",
    "  else:\n",
    "    return False\n",
    "\n",
    "#5\n",
    "def not_sum_to_ten(num1, num2):\n",
    "  if (num1 + num2) != 10:\n",
    "    return True\n",
    "  else:\n",
    "    return False"
   ]
  }
 ],
 "metadata": {
  "kernelspec": {
   "display_name": "Python 3",
   "language": "python",
   "name": "python3"
  },
  "language_info": {
   "codemirror_mode": {
    "name": "ipython",
    "version": 3
   },
   "file_extension": ".py",
   "mimetype": "text/x-python",
   "name": "python",
   "nbconvert_exporter": "python",
   "pygments_lexer": "ipython3",
   "version": "3.7.1"
  }
 },
 "nbformat": 4,
 "nbformat_minor": 2
}
