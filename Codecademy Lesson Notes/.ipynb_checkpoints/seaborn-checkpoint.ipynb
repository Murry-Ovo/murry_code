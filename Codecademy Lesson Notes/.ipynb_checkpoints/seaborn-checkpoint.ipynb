{
 "cells": [
  {
   "cell_type": "markdown",
   "metadata": {},
   "source": [
    "## Plotting bars with Seaborn"
   ]
  },
  {
   "cell_type": "code",
   "execution_count": null,
   "metadata": {},
   "outputs": [],
   "source": [
    "# creating datframe for Plotting Bars with Seaborn\n",
    "gender_statisfaction_df = pd.DataFrame({\n",
    "  'Gender': ['Male', 'Female', 'Non Binary'],\n",
    "  'Mean Satisfaction': [7.2, 8.1, 6.8] \n",
    "    })"
   ]
  },
  {
   "cell_type": "code",
   "execution_count": 5,
   "metadata": {},
   "outputs": [
    {
     "name": "stdout",
     "output_type": "stream",
     "text": [
      "       Gender  Mean Satisfaction\n",
      "0        Male                7.2\n",
      "1      Female                8.1\n",
      "2  Non Binary                6.8\n"
     ]
    },
    {
     "data": {
      "image/png": "[encoded data removed]",
      "text/plain": [
       "<Figure size 432x288 with 1 Axes>"
      ]
     },
     "metadata": {
      "needs_background": "light"
     },
     "output_type": "display_data"
    }
   ],
   "source": [
    "# Plotting Bars with Seaborn\n",
    "\n",
    "import pandas as pd\n",
    "from matplotlib import pyplot as plt\n",
    "import seaborn as sns\n",
    "\n",
    "# Loading results.csv here:\n",
    "# This is how you would get it from a CSV, but this csv does not exist do instead we will manually create the dataframe\n",
    "# gender_statisfaction_df = pd.read_csv('results.csv') \n",
    "gender_statisfaction_df = gender_statisfaction_df\n",
    "\n",
    "# examining the results\n",
    "print(gender_statisfaction_df)\n",
    "\n",
    "# plotting on a bar chart\n",
    "sns.barplot(\n",
    "    data=gender_statisfaction_df ,\n",
    "    x='Gender' ,\n",
    "    y='Mean Satisfaction'\n",
    ")\n",
    "\n",
    "plt.show()"
   ]
  },
  {
   "cell_type": "markdown",
   "metadata": {},
   "source": [
    "## Understanding Aggregates"
   ]
  },
  {
   "cell_type": "code",
   "execution_count": 29,
   "metadata": {},
   "outputs": [
    {
     "name": "stdout",
     "output_type": "stream",
     "text": [
      "  student assignment_name  grade\n",
      "0     Amy    Assignment 1     75\n",
      "1     Amy    Assignment 2     82\n",
      "2     Bob    Assignment 1     99\n",
      "3     Bob    Assignment 2     90\n",
      "4   Chris    Assignment 1     72\n",
      "5   Chris    Assignment 2     66\n",
      "6     Dan    Assignment 1     88\n",
      "7     Dan    Assignment 2     82\n",
      "8   Ellie    Assignment 1     91\n",
      "9   Ellie    Assignment 2     85\n"
     ]
    }
   ],
   "source": [
    "# Creating dataframe for Understanding Aggregates\n",
    "import pandas\n",
    "\n",
    "# creating the gradebookdata frame manually\n",
    "gradebook = pd.DataFrame({\n",
    "    'student': ['Amy','Amy','Bob','Bob','Chris','Chris','Dan','Dan','Ellie','Ellie'],\n",
    "    'assignment_name': ['Assignment 1','Assignment 2','Assignment 1','Assignment 2','Assignment 1','Assignment 2','Assignment 1','Assignment 2','Assignment 1','Assignment 2'],\n",
    "    'grade': [75,82,99,90,72,66,88,82,91,85]\n",
    "    })\n",
    "print(gradebook)\n"
   ]
  },
  {
   "cell_type": "code",
   "execution_count": 32,
   "metadata": {},
   "outputs": [
    {
     "name": "stdout",
     "output_type": "stream",
     "text": [
      "  student assignment_name  grade\n",
      "0     Amy    Assignment 1     75\n",
      "1     Amy    Assignment 2     82\n",
      "2     Bob    Assignment 1     99\n",
      "3     Bob    Assignment 2     90\n",
      "4   Chris    Assignment 1     72\n",
      "5   Chris    Assignment 2     66\n",
      "6     Dan    Assignment 1     88\n",
      "7     Dan    Assignment 2     82\n",
      "8   Ellie    Assignment 1     91\n",
      "9   Ellie    Assignment 2     85\n",
      "------------------\n",
      "  student assignment_name  grade\n",
      "0     Amy    Assignment 1     75\n",
      "2     Bob    Assignment 1     99\n",
      "4   Chris    Assignment 1     72\n",
      "6     Dan    Assignment 1     88\n",
      "8   Ellie    Assignment 1     91\n",
      "------------------\n",
      "The median grade for assignment 1 is: 88.0\n"
     ]
    }
   ],
   "source": [
    "import pandas as pd\n",
    "from matplotlib import pyplot as plt\n",
    "import numpy as np\n",
    "\n",
    "# loading the dataframe gradebook from csv\n",
    "# gradebook = pd.read_csv(\"gradebook.csv\")\n",
    "print(gradebook)\n",
    "\n",
    "# print break\n",
    "print('------------------')\n",
    "\n",
    "# # creating new dataframe which is only the assignment 1 rows \n",
    "assignment1 = gradebook[gradebook.assignment_name == 'Assignment 1']\n",
    "print(assignment1)\n",
    "\n",
    "# print break\n",
    "print('------------------')\n",
    "\n",
    "# # caculating the median grade for assignment 1\n",
    "asn1_median = np.median(assignment1.grade)\n",
    "print('The median grade for assignment 1 is: '+str(asn1_median))\n"
   ]
  },
  {
   "cell_type": "markdown",
   "metadata": {},
   "source": [
    "## Plotting Aggregates"
   ]
  },
  {
   "cell_type": "code",
   "execution_count": 36,
   "metadata": {},
   "outputs": [
    {
     "data": {
      "image/png": "[encoded data removed]",
      "text/plain": [
       "<Figure size 432x288 with 1 Axes>"
      ]
     },
     "metadata": {
      "needs_background": "light"
     },
     "output_type": "display_data"
    }
   ],
   "source": [
    "# Plotting Aggregates\n",
    "\n",
    "# basic syntax\n",
    "# sns.barplot(data=insert_dataframe_name,\n",
    "#             x='insert_xaxis_column_name',\n",
    "#             y='insert_yaxis_column_name')\n",
    "# this will automatically aggregate the yseries data at based on the xseries group\n",
    "\n",
    "import pandas as pd\n",
    "from matplotlib import pyplot as plt\n",
    "import seaborn as sns\n",
    "\n",
    "# plotting the average grade for each assignment name\n",
    "sns.barplot(data=gradebook, x=\"assignment_name\", y=\"grade\")\n",
    "plt.show()"
   ]
  }
 ],
 "metadata": {
  "kernelspec": {
   "display_name": "Python 3",
   "language": "python",
   "name": "python3"
  },
  "language_info": {
   "codemirror_mode": {
    "name": "ipython",
    "version": 3
   },
   "file_extension": ".py",
   "mimetype": "text/x-python",
   "name": "python",
   "nbconvert_exporter": "python",
   "pygments_lexer": "ipython3",
   "version": "3.7.1"
  }
 },
 "nbformat": 4,
 "nbformat_minor": 2
}
