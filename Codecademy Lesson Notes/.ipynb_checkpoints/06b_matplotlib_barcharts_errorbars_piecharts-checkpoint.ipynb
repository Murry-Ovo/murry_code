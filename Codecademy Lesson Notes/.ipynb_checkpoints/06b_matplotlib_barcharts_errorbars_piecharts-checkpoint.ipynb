{
 "cells": [
  {
   "cell_type": "markdown",
   "metadata": {},
   "source": [
    "## Matplotlib - Other Chart Types\n",
    "\n",
    "### Simple Bar Chart\n",
    "\n",
    "The plt.bar function allows you to create simple bar charts to compare multiple categories of data.\n",
    "\n",
    "You call plt.bar with two arguments:\n",
    "\n",
    "- The x-values — a list of x-positions for each bar  \n",
    "- The y-values — a list of heights for each bar"
   ]
  },
  {
   "cell_type": "code",
   "execution_count": 19,
   "metadata": {},
   "outputs": [
    {
     "data": {
      "image/png": "[encoded data removed]",
      "text/plain": [
       "<Figure size 432x288 with 1 Axes>"
      ]
     },
     "metadata": {
      "needs_background": "light"
     },
     "output_type": "display_data"
    }
   ],
   "source": [
    "\n",
    "from matplotlib import pyplot as plt\n",
    "\n",
    "drinks = [\"cappuccino\", \"latte\", \"chai\", \"americano\", \"mocha\", \"espresso\"]\n",
    "sales =  [91, 76, 56, 66, 52, 27]\n",
    "x_values = range(len(drinks))\n",
    "\n",
    "plt.bar(x_values, sales)\n",
    "plt.show()\n",
    "        "
   ]
  },
  {
   "cell_type": "markdown",
   "metadata": {},
   "source": [
    "### Simple Bar Chart II\n",
    "\n",
    "By creating an aexs object we can customise the tick marks to be more meaningful than the range of numbers set as the x_values. \n",
    "\n",
    "-  Create an axes object using `ax = plt.subplot()`  \n",
    "\n",
    "\n",
    "- Set the x-tick positions using a list of numbers: `ax.set_xticks([0, 1, 2, 3, 4, 5, 6, 7, 8])`, a simple way to do this if your x values are saved to a variable is to use `range(len(x_values_variable_name))`  \n",
    "\n",
    "\n",
    "- Set the x-tick labels using a list of strings: `ax.set_xticklabels(['Mercury', 'Venus', 'Earth', 'Mars', 'Jupiter', 'Saturn', 'Uranus', 'Neptune', 'Pluto'])`  \n",
    "\n",
    "\n",
    "- If your labels are particularly long, you can use the rotation keyword to rotate your labels by a specified number of degrees:\n",
    "  ax.set_xticklabels(['Mercury', 'Venus', 'Earth', 'Mars', 'Jupiter', 'Saturn', 'Uranus', 'Neptune', 'Pluto'],\n",
    "  rotation=30)"
   ]
  },
  {
   "cell_type": "code",
   "execution_count": 20,
   "metadata": {},
   "outputs": [
    {
     "data": {
      "image/png": "[encoded data removed]",
      "text/plain": [
       "<Figure size 432x288 with 1 Axes>"
      ]
     },
     "metadata": {
      "needs_background": "light"
     },
     "output_type": "display_data"
    }
   ],
   "source": [
    "\n",
    "from matplotlib import pyplot as plt\n",
    "\n",
    "drinks = [\"cappuccino\", \"latte\", \"chai\", \"americano\", \"mocha\", \"espresso\"]\n",
    "sales =  [91, 76, 56, 66, 52, 27]\n",
    "x_values = range(len(drinks))\n",
    "plt.bar(x_values, sales)\n",
    "plt.xlabel('Drink Type')\n",
    "plt.ylabel('Sales')\n",
    "\n",
    "ax = plt.subplot()\n",
    "ax.set_xticks(x_values)\n",
    "ax.set_xticklabels(drinks)\n",
    "\n",
    "\n",
    "plt.show()"
   ]
  },
  {
   "cell_type": "markdown",
   "metadata": {},
   "source": [
    "### Side-By-Side Bars\n",
    "\n",
    "In order to create a side-by-side bar chart you will need 2 sets of data with the same tpe of axis values. This is useful to compare things suchs as:\n",
    "- The populations of two countries over time\n",
    "- Prices for different foods at two different restaurants\n",
    "- Enrollments in different classes for males and females  \n",
    "\n",
    "As the x-axis need to be offset to show the 2 sets of data side by side we can can assign a few things to variables then use a for loop to create lists which will act as the x-axis for each dataset. \n",
    "\n",
    "##### blue bars\n",
    "```Python\n",
    "n = 1   # This is our first dataset (out of 2)\n",
    "t = 2   # Number of datasets\n",
    "d = 7   # Number of sets of bars\n",
    "w = 0.8 # Width of each bar\n",
    "x_values1 = [t*element + w*n for element in range(d)]```  \n",
    "\n",
    "##### orange bars\n",
    "```Python\n",
    "n = 2   # This is our second dataset (out of 2)\n",
    "t = 2   # Number of datasets\n",
    "d = 7   # Number of sets of bars\n",
    "w = 0.8 # Width of each bar\n",
    "x_values2 = [t*element + w*n for element in range(d)]```"
   ]
  },
  {
   "cell_type": "code",
   "execution_count": 12,
   "metadata": {},
   "outputs": [
    {
     "data": {
      "image/png": "[encoded data removed]",
      "text/plain": [
       "<Figure size 432x288 with 1 Axes>"
      ]
     },
     "metadata": {
      "needs_background": "light"
     },
     "output_type": "display_data"
    }
   ],
   "source": [
    "\n",
    "from matplotlib import pyplot as plt\n",
    "\n",
    "drinks = [\"cappuccino\", \"latte\", \"chai\", \"americano\", \"mocha\", \"espresso\"]\n",
    "sales1 =  [91, 76, 56, 66, 52, 27]\n",
    "sales2 = [65, 82, 36, 68, 38, 40]\n",
    "\n",
    "# creating x values for the first dataset\n",
    "n = 1           # This is our first dataset (out of 2)\n",
    "t = 2           # Number of datasets\n",
    "d = len(drinks) # Number of sets of bars\n",
    "w = 0.8         # Width of each bar\n",
    "store1_x = [t*element + w*n for element in range(d)]\n",
    "\n",
    "# creating x values for the second dataset\n",
    "n = 2           # This is our second dataset (out of 2)\n",
    "t = 2           # Number of datasets\n",
    "d = len(drinks) # Number of sets of bars\n",
    "w = 0.8         # Width of each bar\n",
    "store2_x = [t*element + w*n for element in range(d)]\n",
    "\n",
    "# plotting the 2 datasets on a bar chart  \n",
    "plt.bar(store1_x, sales1)\n",
    "plt.bar(store2_x, sales2)\n",
    "\n",
    "# setting the axes tick marks to that of dataset 1 and labelling them using the drinks variable\n",
    "ax = plt.subplot()\n",
    "ax.set_xticks(store1_x)\n",
    "ax.set_xticklabels(drinks)\n",
    "\n",
    "# labelling the axes\n",
    "plt.xlabel('Drink Type')\n",
    "plt.ylabel('Sale')\n",
    "\n",
    "# creating a legend\n",
    "plt.legend(['Location 1','Location 2'])\n",
    "\n",
    "# displaying the bar chart \n",
    "plt.show()\n"
   ]
  },
  {
   "cell_type": "markdown",
   "metadata": {},
   "source": [
    "#### Stacked Bars\n",
    "\n",
    "If we want to compare two sets of data while preserving knowledge of the total between them, we can also stack the bars instead of putting them side by side.\n",
    "\n",
    "We create the first set of bars as normal, but for the second plt.bar() we add bottom = 'dataset_1' this way the second dataset starts when the first dataset finishes. \n",
    "\n",
    "E.g.\n",
    "```Python\n",
    "# dataset 1:  \n",
    "video_game_hours = [1, 2, 2, 1, 2]\n",
    "plt.bar(range(len(video_game_hours)), video_game_hours) \n",
    "\n",
    "# dataset 2:\n",
    "book_hours = [2, 3, 4, 2, 1]\n",
    "plt.bar(range(len(book_hours)), book_hours, bottom=video_game_hours)```"
   ]
  },
  {
   "cell_type": "code",
   "execution_count": 14,
   "metadata": {},
   "outputs": [
    {
     "data": {
      "image/png": "[encoded data removed]",
      "text/plain": [
       "<Figure size 432x288 with 1 Axes>"
      ]
     },
     "metadata": {
      "needs_background": "light"
     },
     "output_type": "display_data"
    }
   ],
   "source": [
    "\n",
    "from matplotlib import pyplot as plt\n",
    "\n",
    "drinks = [\"cappuccino\", \"latte\", \"chai\", \"americano\", \"mocha\", \"espresso\"]\n",
    "sales1 =  [91, 76, 56, 66, 52, 27]\n",
    "sales2 = [65, 82, 36, 68, 38, 40]\n",
    "# creating x_values based on the range of the length of the drinks variable\n",
    "x_values = range(len(drinks))\n",
    "\n",
    "# plotting sales 1 on the bar chart\n",
    "plt.bar(x_values, sales1)\n",
    "# plotting sales 2 as stacked bar, using the sales1 as the starting point \n",
    "plt.bar(x_values, sales2, bottom = sales1)\n",
    "\n",
    "# adding title and axis labels\n",
    "plt.title('Total Drinks Sold Between Location 1 and 2')\n",
    "plt.xlabel('Drink Type')\n",
    "plt.ylabel('Sales')\n",
    "\n",
    "# renaming the tickmarks to the drink names\n",
    "ax = plt.subplot()\n",
    "ax.set_xticklabels(drinks)\n",
    "\n",
    "# adding a legend\n",
    "plt.legend(['Location 1','Location 2'])\n",
    "\n",
    "plt.show()"
   ]
  },
  {
   "cell_type": "markdown",
   "metadata": {},
   "source": [
    "### Error Bars\n",
    "\n",
    "Sometimes you want to show an error range of a datapoint, for example:  \n",
    "    \n",
    "- The average number of students in a 3rd grade classroom is 30, but some classes have as few as 18 and others have as many as 35 students.  \n",
    "\n",
    "- We measured that the weight of a certain fruit was 35g, but we know that our scale isn’t very precise, so the true weight of the fruit might be as much as 40g or as little as 30g.  \n",
    "\n",
    "- The average price of a soda is £1.00, but we also want to communicate that the standard deviation is 20p.  \n",
    "\n",
    "\n",
    "To acheive this you can specify a y axis error (yerr) after entering the x and y values into a plt.bar() argument, this can be followed by capsize = '#' to determine the size of the lines which cap off the error lines.  \n",
    "\n",
    "\n",
    "base syntax:\n",
    "```Python\n",
    "values = [10, 13, 11, 15, 20]\n",
    "yerr = [1, 3, 0.5, 2, 4]\n",
    "plt.bar(range(len(values)), values, yerr=yerr, capsize=10)\n",
    "plt.show()```"
   ]
  },
  {
   "cell_type": "code",
   "execution_count": 15,
   "metadata": {},
   "outputs": [
    {
     "data": {
      "image/png": "[encoded data removed]",
      "text/plain": [
       "<Figure size 432x288 with 1 Axes>"
      ]
     },
     "metadata": {
      "needs_background": "light"
     },
     "output_type": "display_data"
    }
   ],
   "source": [
    "\n",
    "from matplotlib import pyplot as plt\n",
    "\n",
    "drinks = [\"cappuccino\", \"latte\", \"chai\", \"americano\", \"mocha\", \"espresso\"]\n",
    "ounces_of_milk = [6, 9, 4, 0, 9, 0]\n",
    "error = [0.6, 0.9, 0.4, 0, 0.9, 0]\n",
    "x_range = range(len(drinks))\n",
    "\n",
    "plt.bar(x_range, ounces_of_milk, yerr=error, capsize = 5)\n",
    "\n",
    "plt.show()\n"
   ]
  },
  {
   "cell_type": "markdown",
   "metadata": {},
   "source": [
    "### Fill Between - Line Graph Error Range\n",
    "\n",
    "Like adding error lines to a bar chart, you can create a shaded area onto a line graph to show error margin. This can be done with:\n",
    "- `plt.fill_between(x_values, y_lower, y_upper, alpha=#)`\n",
    "- It uses the same x_values as the line graph\n",
    "- It takes 2 additional lists y_lower then y_upper \n",
    "- The alpha should be a number between 0 and 1 to specify the transparency of the shading. \n",
    "\n",
    "y_lower and y_upper can be calculated using list comprehension to make it easier. For example \n",
    "- `y_lower = [i - 2 for i in y_values]` would minus 2 from each element in your y_values\n",
    "- `y_upper = [i + 2 for i in y_values]` would add 2 from each element in your y_values"
   ]
  },
  {
   "cell_type": "code",
   "execution_count": 16,
   "metadata": {},
   "outputs": [
    {
     "data": {
      "image/png": "[encoded data removed]",
      "text/plain": [
       "<Figure size 432x288 with 1 Axes>"
      ]
     },
     "metadata": {
      "needs_background": "light"
     },
     "output_type": "display_data"
    }
   ],
   "source": [
    "\n",
    "from matplotlib import pyplot as plt\n",
    "\n",
    "months = range(12)\n",
    "month_names = [\"Jan\", \"Feb\", \"Mar\", \"Apr\", \"May\", \"Jun\", \"Jul\", \"Aug\", \"Sep\", \"Oct\", \"Nov\", \"Dec\"]\n",
    "revenue = [16000, 14000, 17500, 19500, 21500, 21500, 22000, 23000, 20000, 19500, 18000, 16500]\n",
    "# setting y_lower to 10 percent less than the revenue value\n",
    "y_lower = [num * 0.9 for num in revenue]\n",
    "# setting y_upper to 10 percent higher than revenue value\n",
    "y_upper = [num * 1.1 for num in revenue]\n",
    "\n",
    "ax = plt.subplot()\n",
    "plt.fill_between(months, y_lower, y_upper, alpha=0.2)\n",
    "plt.plot(months, revenue)\n",
    "ax.set_xticks(months)\n",
    "ax.set_xticklabels(month_names)\n",
    "\n",
    "plt.show()"
   ]
  },
  {
   "cell_type": "markdown",
   "metadata": {},
   "source": [
    "### Pie Charts\n",
    "\n",
    "Pie charts are pretty straightforward to create, you pass the values you wish to see through `plt.pie()`.  \n",
    "\n",
    "Example Syntax:\n",
    "``` Python\n",
    "budget_data = [500, 1000, 750, 300, 100]\n",
    "\n",
    "plt.pie(budget_data)\n",
    "plt.axis('equal') # Equal aspect ratio ensures that pie is drawn as a circle, and not squashed\n",
    "plt.show()\n",
    "```"
   ]
  },
  {
   "cell_type": "code",
   "execution_count": 24,
   "metadata": {
    "scrolled": true
   },
   "outputs": [
    {
     "data": {
      "image/png": "[encoded data removed]",
      "text/plain": [
       "<Figure size 432x288 with 1 Axes>"
      ]
     },
     "metadata": {},
     "output_type": "display_data"
    }
   ],
   "source": [
    "from matplotlib import pyplot as plt\n",
    "import numpy as np\n",
    "\n",
    "payment_method_names = [\"Card Swipe\", \"Cash\", \"Apple Pay\", \"Other\"]\n",
    "payment_method_freqs = [270, 77, 32, 11]\n",
    "\n",
    "plt.pie(payment_method_freqs)\n",
    "plt.axis('equal')\n",
    "plt.legend(payment_method_names)\n",
    "\n",
    "plt.show()\n"
   ]
  },
  {
   "cell_type": "markdown",
   "metadata": {},
   "source": [
    "### Pie Chart labelling\n",
    "\n",
    "you can show the names of each part of a pie chart by adding a legend in the usual way, -`plt.legend(value_names)`- however you can also make it clearer by assigning the value names next to each slice of the pie chart by passing the labels through the plt.pie(), e.g:\n",
    "```Python \n",
    "plt.pie(budget_data, labels=budget_categories)\n",
    "```  \n",
    "\n",
    "We can also add the percentage of the total that each slice represents, Matplotlib can add this automatically with the keyword autopct. We pass in string formatting instructions to format the labels how we want. Some common formats are:\n",
    "\n",
    "- `'%0.2f'` - 2 decimal places, like 4.08\n",
    "- `'%0.2f%%'` - 2 decimal places, but with a percent sign at the end, like 4.08%. You need two consecutive percent signs because the first one acts as an escape character, so that the second one gets displayed on the chart.\n",
    "- `'%d%%'` - rounded to the nearest int and with a percent sign at the end, like 4%\n",
    "\n",
    "So, a full call to plt.pie might look like:\n",
    "```Python\n",
    "plt.pie(budget_data,\n",
    "        labels=budget_categories,\n",
    "        autopct='%0.1f%%')\n",
    "```    "
   ]
  },
  {
   "cell_type": "code",
   "execution_count": 28,
   "metadata": {},
   "outputs": [
    {
     "data": {
      "image/png": "[encoded data removed]",
      "text/plain": [
       "<Figure size 432x432 with 1 Axes>"
      ]
     },
     "metadata": {},
     "output_type": "display_data"
    }
   ],
   "source": [
    "from matplotlib import pyplot as plt\n",
    "\n",
    "payment_method_names = [\"Card Swipe\", \"Cash\", \"Apple Pay\", \"Other\"]\n",
    "payment_method_freqs = [270, 77, 32, 11]\n",
    "\n",
    "plt.figure(figsize=(6,6))\n",
    "plt.pie(payment_method_freqs, labels=payment_method_names, autopct='%0.1f%%')\n",
    "plt.axis('equal')\n",
    "plt.legend(payment_method_names)\n",
    "\n",
    "plt.show()"
   ]
  },
  {
   "cell_type": "markdown",
   "metadata": {},
   "source": [
    "### Histograms\n",
    "\n",
    "\n",
    "#### What is a histogram?\n",
    "\n",
    "Sometimes we want to get a feel for a large dataset with many samples beyond knowing just the basic metrics of mean, median, or standard deviation. To get more of an intuitive sense for a dataset, we can use a histogram to display all the values.\n",
    "\n",
    "A histogram tells us how many values in a dataset fall between different sets of numbers (i.e., how many numbers fall between 0 and 10? Between 10 and 20? Between 20 and 30?). Each of these questions represents a bin, for instance, our first bin might be between 0 and 10.\n",
    "\n",
    "All bins in a histogram are always the same size. The width of each bin is the distance between the minimum and maximum values of each bin. In our example, the width of each bin would be 10.\n",
    "\n",
    "Each bin is represented by a different rectangle whose height is the number of elements from the dataset that fall within that bin.\n",
    "\n",
    "#### Making Histograms with Matplotlib\n",
    "\n",
    "To create a histogram simply use `plt.hist(my_list)` with a list as the only argument, this will split the data into 10 bins automatically and display the whole range. \n",
    "\n",
    "If you want more than 10 bins you can specify this like so:\n",
    "```Python \n",
    "plt.hist(my_list, bins=40)```\n",
    "\n",
    "And if you wanted to look at a specific range and more than 10 bins you can do so like this:\n",
    "```Python \n",
    "plt.hist(dataset, range=(66,69), bins=40)```"
   ]
  },
  {
   "cell_type": "code",
   "execution_count": 47,
   "metadata": {},
   "outputs": [
    {
     "name": "stdout",
     "output_type": "stream",
     "text": [
      "   id   card_no   time\n",
      "0   1  56022600  17:36\n",
      "1   2  35591900  08:58\n",
      "2   3  30590700  20:14\n",
      "3   4  56418300  16:07\n",
      "4   5  35654900  21:35\n",
      "   id  card_no   time\n",
      "0   1   560225  17:36\n",
      "1   2   355918  08:58\n",
      "2   3   305907  20:14\n",
      "3   4   564182  16:07\n",
      "4   5   356549  21:35\n"
     ]
    }
   ],
   "source": [
    "## importing 2 dataframes to use for the histogram exercise\n",
    "\n",
    "import pandas as pd\n",
    "\n",
    "test_data_sales1 = pd.read_csv(r\"C:\\Users\\andrew.morris\\Documents\\GitHub\\murry_code\\Codecademy Lesson Notes\\test data\\test_data_histograms_sales1.csv\") \n",
    "test_data_sales2 = pd.read_csv(r\"C:\\Users\\andrew.morris\\Documents\\GitHub\\murry_code\\Codecademy Lesson Notes\\test data\\test_data_histograms_sales2.csv\") \n",
    "\n",
    "print(test_data_sales1.head())\n",
    "print(test_data_sales2.head())\n",
    "\n"
   ]
  },
  {
   "cell_type": "code",
   "execution_count": null,
   "metadata": {},
   "outputs": [],
   "source": [
    "\n",
    "from matplotlib import pyplot as plt\n",
    "\n",
    "plt.hist(sales_times, bins=20)\n",
    "\n",
    "plt.show()"
   ]
  },
  {
   "cell_type": "code",
   "execution_count": null,
   "metadata": {},
   "outputs": [],
   "source": [
    "# Multiple Histograms\n",
    "\n",
    "# You can show multiple histograms on the same plot, adding the keyword 'alpha=#' allows you to set a transparancy level using a number between 0 and 1\n",
    "\n",
    "# If you wanted to show these as lines rather than filled bars you can add the keyword/value histtype='step'\n",
    "\n",
    "# If the 2 datasets have 2 different size values you can add normed=True"
   ]
  },
  {
   "cell_type": "code",
   "execution_count": 29,
   "metadata": {},
   "outputs": [
    {
     "ename": "ModuleNotFoundError",
     "evalue": "No module named 'codecademylib'",
     "output_type": "error",
     "traceback": [
      "\u001b[1;31m---------------------------------------------------------------------------\u001b[0m",
      "\u001b[1;31mModuleNotFoundError\u001b[0m                       Traceback (most recent call last)",
      "\u001b[1;32m<ipython-input-29-f19d2480d108>\u001b[0m in \u001b[0;36m<module>\u001b[1;34m\u001b[0m\n\u001b[0;32m      1\u001b[0m \u001b[1;33m\u001b[0m\u001b[0m\n\u001b[1;32m----> 2\u001b[1;33m \u001b[1;32mimport\u001b[0m \u001b[0mcodecademylib\u001b[0m\u001b[1;33m\u001b[0m\u001b[1;33m\u001b[0m\u001b[0m\n\u001b[0m\u001b[0;32m      3\u001b[0m \u001b[1;32mfrom\u001b[0m \u001b[0mmatplotlib\u001b[0m \u001b[1;32mimport\u001b[0m \u001b[0mpyplot\u001b[0m \u001b[1;32mas\u001b[0m \u001b[0mplt\u001b[0m\u001b[1;33m\u001b[0m\u001b[1;33m\u001b[0m\u001b[0m\n\u001b[0;32m      4\u001b[0m \u001b[1;32mfrom\u001b[0m \u001b[0mscript\u001b[0m \u001b[1;32mimport\u001b[0m \u001b[0msales_times1\u001b[0m\u001b[1;33m\u001b[0m\u001b[1;33m\u001b[0m\u001b[0m\n\u001b[0;32m      5\u001b[0m \u001b[1;32mfrom\u001b[0m \u001b[0mscript\u001b[0m \u001b[1;32mimport\u001b[0m \u001b[0msales_times2\u001b[0m\u001b[1;33m\u001b[0m\u001b[1;33m\u001b[0m\u001b[0m\n",
      "\u001b[1;31mModuleNotFoundError\u001b[0m: No module named 'codecademylib'"
     ]
    }
   ],
   "source": [
    "\n",
    "\n",
    "plt.hist(sales_times1, bins=20, alpha=0.4, normed=True)\n",
    "plt.hist(sales_times2, bins=20, alpha=0.4, normed=True)\n",
    "\n",
    "plt.show()\n",
    "\n",
    "print(sales_times1)"
   ]
  }
 ],
 "metadata": {
  "kernelspec": {
   "display_name": "Python 3",
   "language": "python",
   "name": "python3"
  },
  "language_info": {
   "codemirror_mode": {
    "name": "ipython",
    "version": 3
   },
   "file_extension": ".py",
   "mimetype": "text/x-python",
   "name": "python",
   "nbconvert_exporter": "python",
   "pygments_lexer": "ipython3",
   "version": "3.7.1"
  }
 },
 "nbformat": 4,
 "nbformat_minor": 2
}
