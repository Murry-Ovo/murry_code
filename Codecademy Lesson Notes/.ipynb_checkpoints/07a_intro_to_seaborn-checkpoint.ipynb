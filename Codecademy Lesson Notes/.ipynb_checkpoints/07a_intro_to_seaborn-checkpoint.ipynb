{
 "cells": [
  {
   "cell_type": "markdown",
   "metadata": {},
   "source": [
    "## Plotting bars with Seaborn"
   ]
  },
  {
   "cell_type": "code",
   "execution_count": null,
   "metadata": {},
   "outputs": [],
   "source": [
    "# creating datframe for Plotting Bars with Seaborn\n",
    "gender_statisfaction_df = pd.DataFrame({\n",
    "  'Gender': ['Male', 'Female', 'Non Binary'],\n",
    "  'Mean Satisfaction': [7.2, 8.1, 6.8] \n",
    "    })"
   ]
  },
  {
   "cell_type": "code",
   "execution_count": null,
   "metadata": {},
   "outputs": [],
   "source": [
    "# Plotting Bars with Seaborn\n",
    "\n",
    "import pandas as pd\n",
    "from matplotlib import pyplot as plt\n",
    "import seaborn as sns\n",
    "\n",
    "# Loading results.csv here:\n",
    "# This is how you would get it from a CSV, but this csv does not exist do instead we will manually create the dataframe\n",
    "# gender_statisfaction_df = pd.read_csv('results.csv') \n",
    "gender_statisfaction_df = gender_statisfaction_df\n",
    "\n",
    "# examining the results\n",
    "print(gender_statisfaction_df)\n",
    "\n",
    "# plotting on a bar chart\n",
    "sns.barplot(\n",
    "    data = gender_statisfaction_df ,\n",
    "    x = 'Gender' ,\n",
    "    y = 'Mean Satisfaction'\n",
    ")\n",
    "\n",
    "plt.show()"
   ]
  },
  {
   "cell_type": "markdown",
   "metadata": {},
   "source": [
    "## Understanding Aggregates"
   ]
  },
  {
   "cell_type": "code",
   "execution_count": null,
   "metadata": {},
   "outputs": [],
   "source": [
    "# Creating dataframe for Understanding Aggregates\n",
    "import pandas\n",
    "\n",
    "# creating the gradebookdata frame manually\n",
    "gradebook = pd.DataFrame({\n",
    "    'student': ['Amy','Amy','Bob','Bob','Chris','Chris','Dan','Dan','Ellie','Ellie'],\n",
    "    'assignment_name': ['Assignment 1','Assignment 2','Assignment 1','Assignment 2','Assignment 1','Assignment 2','Assignment 1','Assignment 2','Assignment 1','Assignment 2'],\n",
    "    'grade': [75,82,99,90,72,66,88,82,91,85]\n",
    "    })\n",
    "print(gradebook)\n",
    "print(gradebook.info())\n"
   ]
  },
  {
   "cell_type": "code",
   "execution_count": null,
   "metadata": {},
   "outputs": [],
   "source": [
    "import pandas as pd\n",
    "from matplotlib import pyplot as plt\n",
    "import numpy as np\n",
    "\n",
    "# loading the dataframe gradebook from csv\n",
    "# gradebook = pd.read_csv(\"gradebook.csv\")\n",
    "print(gradebook)\n",
    "\n",
    "# print break\n",
    "print('------------------')\n",
    "\n",
    "# # creating new dataframe which is only the assignment 1 rows \n",
    "assignment1 = gradebook[gradebook.assignment_name == 'Assignment 1']\n",
    "print(assignment1)\n",
    "\n",
    "# print break\n",
    "print('------------------')\n",
    "\n",
    "# # caculating the median grade for assignment 1\n",
    "asn1_median = np.median(assignment1.grade)\n",
    "print('The median grade for assignment 1 is: '+str(asn1_median))\n"
   ]
  },
  {
   "cell_type": "markdown",
   "metadata": {},
   "source": [
    "## Plotting Aggregates\n",
    "\n",
    "#### basic syntax:\n",
    "\n",
    "sns.barplot(data=insert_dataframe_name, x='insert_xaxis_column_name', y='insert_yaxis_column_name')\n",
    "            \n",
    "This will automatically aggregate the yseries data at based on the xseries group"
   ]
  },
  {
   "cell_type": "code",
   "execution_count": null,
   "metadata": {},
   "outputs": [],
   "source": [
    "import pandas as pd\n",
    "from matplotlib import pyplot as plt\n",
    "import seaborn as sns\n",
    "\n",
    "# plotting the average grade for each assignment name\n",
    "sns.barplot(data = gradebook, \n",
    "            x = \"assignment_name\", \n",
    "            y = \"grade\")\n",
    "plt.show()"
   ]
  },
  {
   "cell_type": "markdown",
   "metadata": {},
   "source": [
    "## Calculating Different Aggregates\n",
    "\n",
    "If our data has many outliers, we may want to plot the median.  \n",
    "\n",
    "If our data is categorical, we might want to count how many times each category appears (such as in the case of survey responses).\n",
    "\n",
    "You can add 'estimator' to the argument and reference any aggregate function that wroks on a list, e.g. len, or np.median"
   ]
  },
  {
   "cell_type": "code",
   "execution_count": null,
   "metadata": {},
   "outputs": [],
   "source": [
    "#importing 'test_data_survey_responses_seaborn' as survey_df\n",
    "\n",
    "import pandas as pd\n",
    "import os\n",
    "\n",
    "survey_df = pd.read_csv(r\"C:\\Users\\andre\\Documents\\GitHub\\murry_code\\Codecademy Lesson Notes\\test data\\test_data_survey_responses_seaborn.csv\")\n",
    "print(survey_df.head())\n"
   ]
  },
  {
   "cell_type": "code",
   "execution_count": null,
   "metadata": {},
   "outputs": [],
   "source": [
    "import warnings\n",
    "warnings.filterwarnings('ignore')\n",
    "import numpy as np\n",
    "import pandas as pd\n",
    "from matplotlib import pyplot as plt\n",
    "import seaborn as sns\n",
    "\n",
    "# Creating a subplot to display 1 row, 2 plots position 1\n",
    "plt.subplot(1,2,1)\n",
    "plt.title('Median Response By Gender')\n",
    "sns.barplot(data = survey_df, \n",
    "            x = 'Gender', \n",
    "            y = 'Response', \n",
    "            estimator = np.median)\n",
    "\n",
    "# Creating a subplot to display 1 row, 2 plots position 2\n",
    "plt.subplot(1,2,2)\n",
    "plt.title('Surveys Answered By Gender')\n",
    "# Using len as the esitmator to calculate the number of times a particulat value appears in the response column\n",
    "sns.barplot(data = survey_df,\n",
    "            x = 'Gender',\n",
    "            y = 'Response',\n",
    "            estimator = len)\n",
    "\n",
    "# increasing the space between the 2 subplots\n",
    "plt.subplots_adjust(wspace = 0.5)\n",
    "\n",
    "plt.show()"
   ]
  },
  {
   "cell_type": "markdown",
   "metadata": {},
   "source": [
    "## Aggregating by Multiple Columns\n",
    "\n",
    "We can aggregate based on multiple columns by using the keyword 'hue' to add a second category/variable to aggregate by, e.g:  \n",
    "  \n",
    "sns.barplot(data=df,\n",
    "            x=\"Gender\",\n",
    "            y=\"Response\",\n",
    "            hue=\"Age Range\")\n",
    "  \n",
    "This will add a nested categorical variable to the plot. The second variable creates new coloured bars representing each age range."
   ]
  },
  {
   "cell_type": "code",
   "execution_count": null,
   "metadata": {},
   "outputs": [],
   "source": [
    "import pandas as pd\n",
    "from matplotlib import pyplot as plt\n",
    "import seaborn as sns\n",
    "\n",
    "plt.figure(figsize=(10,8))\n",
    "\n",
    "plt.subplot(2,1,1)\n",
    "plt.title('Survey Results by Age Range with Gender Nested')\n",
    "sns.barplot(data = survey_df,\n",
    "            x = 'Age Range',\n",
    "            y = 'Response',\n",
    "            hue = 'Gender')\n",
    "\n",
    "plt.subplot(2,1,2)\n",
    "plt.title('Survey Results by Gender with Age Range Nested')\n",
    "sns.barplot(data = survey_df,\n",
    "            x = 'Gender',\n",
    "            y = 'Response',\n",
    "            hue = 'Age Range')\n",
    "\n",
    "plt.subplots_adjust(hspace = 0.5)\n",
    "plt.show()\n",
    "\n",
    "# Which one of these is more useful? \n",
    "# Probably the First subplot, as you can easily compare Male vs Female within each age range, \n",
    "# On the second plot it is harder to see the difference between male vs female. "
   ]
  }
 ],
 "metadata": {
  "kernelspec": {
   "display_name": "Python 3",
   "language": "python",
   "name": "python3"
  },
  "language_info": {
   "codemirror_mode": {
    "name": "ipython",
    "version": 3
   },
   "file_extension": ".py",
   "mimetype": "text/x-python",
   "name": "python",
   "nbconvert_exporter": "python",
   "pygments_lexer": "ipython3",
   "version": "3.7.6"
  }
 },
 "nbformat": 4,
 "nbformat_minor": 2
}
