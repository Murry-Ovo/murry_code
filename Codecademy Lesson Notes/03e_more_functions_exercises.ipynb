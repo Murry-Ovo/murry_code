{
 "cells": [
  {
   "cell_type": "markdown",
   "metadata": {},
   "source": [
    "## More Exercises With Functions\n",
    "\n",
    "#### 1. Large Power  \n",
    "\n",
    "Create a function named large_power() that takes two parameters named base and exponent.\n",
    "\n",
    "If base raised to the exponent is greater than 5000, return True, otherwise return False"
   ]
  },
  {
   "cell_type": "code",
   "execution_count": null,
   "metadata": {},
   "outputs": [],
   "source": [
    "# Write your large_power function here:\n",
    "\n",
    "  \n",
    "# Uncomment these function calls to test your large_power function:\n",
    "# print(large_power(2, 13))\n",
    "# should print True\n",
    "# print(large_power(2, 12))\n",
    "# should print False"
   ]
  },
  {
   "cell_type": "markdown",
   "metadata": {},
   "source": [
    "#### 2. Over Budget  \n",
    "Create a function called over_budget that has five parameters named budget, food_bill, electricity_bill, internet_bill, and rent.\n",
    "\n",
    "The function should return True if budget is less than the sum of the other four parameters — you’ve gone over budget! Return False otherwise.\n",
    "\n"
   ]
  },
  {
   "cell_type": "code",
   "execution_count": null,
   "metadata": {},
   "outputs": [],
   "source": [
    "# Write your over_budget function here:\n",
    "\n",
    "\n",
    "# Uncomment these function calls to test your over_budget function:\n",
    "# print(over_budget(100, 20, 30, 10, 40))\n",
    "# should print False\n",
    "# print(over_budget(80, 20, 30, 10, 30))\n",
    "# should print True"
   ]
  },
  {
   "cell_type": "markdown",
   "metadata": {},
   "source": [
    "#### 3. Twice As Large\n",
    "Create a function named twice_as_large() that has two parameters named num1 and num2.\n",
    "\n",
    "Return True if num1 is more than double num2. Return False otherwise."
   ]
  },
  {
   "cell_type": "code",
   "execution_count": null,
   "metadata": {},
   "outputs": [],
   "source": [
    "# Write your twice_as_large function here:\n",
    "\n",
    "  \n",
    "# Uncomment these function calls to test your twice_as_large function:\n",
    "# print(twice_as_large(10, 5))\n",
    "# should print False\n",
    "# print(twice_as_large(11, 5))\n",
    "# should print True"
   ]
  },
  {
   "cell_type": "markdown",
   "metadata": {},
   "source": [
    "#### 4. Divisible By Ten\n",
    "Create a function called divisible_by_ten() that has one parameter named num.\n",
    "\n",
    "The function should return True if num is divisible by 10, and False otherwise. Consider using modulo (%) to check for divisibility.\n"
   ]
  },
  {
   "cell_type": "code",
   "execution_count": null,
   "metadata": {},
   "outputs": [],
   "source": [
    "# Write your divisible_by_ten function here:\n",
    "\n",
    "# Uncomment these function calls to test your divisible_by_ten function:\n",
    "#print(divisible_by_ten(20))\n",
    "# should print True\n",
    "#print(divisible_by_ten(25))\n",
    "# should print False"
   ]
  },
  {
   "cell_type": "markdown",
   "metadata": {},
   "source": [
    "#### 5. Not Equal\n",
    "Create a function named not_sum_to_ten() that has two parameters named num1 and num2.\n",
    "\n",
    "Return True if num1 and num2 do not sum to 10. Return False otherwise."
   ]
  },
  {
   "cell_type": "code",
   "execution_count": null,
   "metadata": {},
   "outputs": [],
   "source": [
    "# Write your not_sum_to_ten function here:\n",
    "  \n",
    "# Uncomment these function calls to test your not_sum_to_ten function:\n",
    "#print(not_sum_to_ten(9, -1))\n",
    "# should print True\n",
    "#print(not_sum_to_ten(9, 1))\n",
    "# should print False\n",
    "#print(not_sum_to_ten(5,5))\n",
    "# should print False"
   ]
  }
 ],
 "metadata": {
  "kernelspec": {
   "display_name": "Python 3",
   "language": "python",
   "name": "python3"
  },
  "language_info": {
   "codemirror_mode": {
    "name": "ipython",
    "version": 3
   },
   "file_extension": ".py",
   "mimetype": "text/x-python",
   "name": "python",
   "nbconvert_exporter": "python",
   "pygments_lexer": "ipython3",
   "version": "3.7.1"
  }
 },
 "nbformat": 4,
 "nbformat_minor": 2
}
