{
 "cells": [
  {
   "cell_type": "markdown",
   "metadata": {},
   "source": [
    "## More Exercises With Functions\n",
    "\n",
    "#### 1. Large Power  \n",
    "\n",
    "Create a function named large_power() that takes two parameters named base and exponent.\n",
    "\n",
    "If base raised to the exponent is greater than 5000, return True, otherwise return False"
   ]
  },
  {
   "cell_type": "code",
   "execution_count": null,
   "metadata": {},
   "outputs": [],
   "source": [
    "# Write your large_power function here:\n",
    "\n",
    "  \n",
    "# Uncomment these function calls to test your large_power function:\n",
    "# print(large_power(2, 13))\n",
    "# should print True\n",
    "# print(large_power(2, 12))\n",
    "# should print False"
   ]
  },
  {
   "cell_type": "markdown",
   "metadata": {},
   "source": [
    "#### 2. Over Budget  \n",
    "Create a function called over_budget that has five parameters named budget, food_bill, electricity_bill, internet_bill, and rent.\n",
    "\n",
    "The function should return True if budget is less than the sum of the other four parameters — you’ve gone over budget! Return False otherwise.\n",
    "\n"
   ]
  },
  {
   "cell_type": "code",
   "execution_count": null,
   "metadata": {},
   "outputs": [],
   "source": [
    "# Write your over_budget function here:\n",
    "\n",
    "\n",
    "# Uncomment these function calls to test your over_budget function:\n",
    "# print(over_budget(100, 20, 30, 10, 40))\n",
    "# should print False\n",
    "# print(over_budget(80, 20, 30, 10, 30))\n",
    "# should print True"
   ]
  },
  {
   "cell_type": "markdown",
   "metadata": {},
   "source": [
    "#### 3. Twice As Large\n",
    "Create a function named twice_as_large() that has two parameters named num1 and num2.\n",
    "\n",
    "Return True if num1 is more than double num2. Return False otherwise."
   ]
  },
  {
   "cell_type": "code",
   "execution_count": null,
   "metadata": {},
   "outputs": [],
   "source": [
    "# Write your twice_as_large function here:\n",
    "\n",
    "  \n",
    "# Uncomment these function calls to test your twice_as_large function:\n",
    "# print(twice_as_large(10, 5))\n",
    "# should print False\n",
    "# print(twice_as_large(11, 5))\n",
    "# should print True"
   ]
  },
  {
   "cell_type": "markdown",
   "metadata": {},
   "source": [
    "#### 4. Divisible By Ten\n",
    "Create a function called divisible_by_ten() that has one parameter named num.\n",
    "\n",
    "The function should return True if num is divisible by 10, and False otherwise. Consider using modulo (%) to check for divisibility.\n"
   ]
  },
  {
   "cell_type": "code",
   "execution_count": null,
   "metadata": {},
   "outputs": [],
   "source": [
    "# Write your divisible_by_ten function here:\n",
    "\n",
    "# Uncomment these function calls to test your divisible_by_ten function:\n",
    "#print(divisible_by_ten(20))\n",
    "# should print True\n",
    "#print(divisible_by_ten(25))\n",
    "# should print False"
   ]
  },
  {
   "cell_type": "markdown",
   "metadata": {},
   "source": [
    "#### 5. Not Equal\n",
    "Create a function named not_sum_to_ten() that has two parameters named num1 and num2.\n",
    "\n",
    "Return True if num1 and num2 do not sum to 10. Return False otherwise."
   ]
  },
  {
   "cell_type": "code",
   "execution_count": null,
   "metadata": {},
   "outputs": [],
   "source": [
    "# Write your not_sum_to_ten function here:\n",
    "  \n",
    "# Uncomment these function calls to test your not_sum_to_ten function:\n",
    "#print(not_sum_to_ten(9, -1))\n",
    "# should print True\n",
    "#print(not_sum_to_ten(9, 1))\n",
    "# should print False\n",
    "#print(not_sum_to_ten(5,5))\n",
    "# should print False"
   ]
  },
  {
   "cell_type": "markdown",
   "metadata": {},
   "source": [
    "#### 6. In Range\n",
    "Create a function named in_range() that has three parameters named num, lower, and upper.\n",
    "\n",
    "The function should return True if num is greater than or equal to lower and less than or equal to upper. Otherwise, return False."
   ]
  },
  {
   "cell_type": "code",
   "execution_count": null,
   "metadata": {},
   "outputs": [],
   "source": [
    "# Write your in_range function here:\n",
    "\n",
    "# Uncomment these function calls to test your in_range function:\n",
    "# print(in_range(10, 10, 10))\n",
    "# should print True\n",
    "# print(in_range(5, 10, 20))\n",
    "# should print False"
   ]
  },
  {
   "cell_type": "markdown",
   "metadata": {},
   "source": [
    "#### 7. Same Name\n",
    "Create a function named same_name() that has two parameters named your_name and my_name.\n",
    "\n",
    "If our names are identical, return True. Otherwise, return False."
   ]
  },
  {
   "cell_type": "code",
   "execution_count": null,
   "metadata": {},
   "outputs": [],
   "source": [
    "# Write your same_name function here:\n",
    "\n",
    "# Uncomment these function calls to test your same_name function:\n",
    "#print(same_name(\"Colby\", \"Colby\"))\n",
    "# should print True\n",
    "#print(same_name(\"Tina\", \"Amber\"))\n",
    "# should print False"
   ]
  },
  {
   "cell_type": "markdown",
   "metadata": {},
   "source": [
    "#### 8. Always False\n",
    "Create a function named always_false() that has one parameter named num.\n",
    "\n",
    "Using an if statement, your variable num, and the operators >, and <, make it so your function will return False no matter what number is stored in num.\n",
    "\n",
    "An if statement that is always false is called a contradiction. You will rarely want to do this while programming, but it is important to realize it is possible to do this."
   ]
  },
  {
   "cell_type": "code",
   "execution_count": null,
   "metadata": {},
   "outputs": [],
   "source": [
    "# Write your always_false function here:\n",
    "\n",
    "# Uncomment these function calls to test your always_false function:\n",
    "#print(always_false(0))\n",
    "# should print False\n",
    "#print(always_false(-1))\n",
    "# should print False\n",
    "#print(always_false(1))\n",
    "# should print False"
   ]
  },
  {
   "cell_type": "markdown",
   "metadata": {},
   "source": [
    "#### 9.Movie Review\n",
    "Create a function named movie_review() that has one parameter named rating.\n",
    "\n",
    "If rating is less than or equal to 5, return \"Avoid at all costs!\". If rating is between 5 and 9, return \"This one was fun.\". If rating is 9 or above, return \"Outstanding!\""
   ]
  },
  {
   "cell_type": "code",
   "execution_count": null,
   "metadata": {},
   "outputs": [],
   "source": [
    "# Write your movie_review function here:\n",
    "\n",
    "# Uncomment these function calls to test your movie_review function:\n",
    "#print(movie_review(9))\n",
    "# should print \"Outstanding!\"\n",
    "#print(movie_review(4))\n",
    "# should print \"Avoid at all costs!\"\n",
    "#print(movie_review(6))\n",
    "# should print \"This one was fun.\""
   ]
  },
  {
   "cell_type": "markdown",
   "metadata": {},
   "source": [
    "#### 10. Max Number\n",
    "Create a function called max_num() that has three parameters named num1, num2, and num3.\n",
    "\n",
    "The function should return the largest of these three numbers. If any of two numbers tie as the largest, you should return \"It's a tie!\"."
   ]
  },
  {
   "cell_type": "code",
   "execution_count": null,
   "metadata": {},
   "outputs": [],
   "source": [
    "# Write your max_num function here:\n",
    "\n",
    "# Uncomment these function calls to test your max_num function:\n",
    "# print(max_num(-10, 0, 10))\n",
    "# should print 10\n",
    "# print(max_num(-10, 5, -30))\n",
    "# should print 5\n",
    "# print(max_num(-5, -10, -10))\n",
    "# should print -5\n",
    "# print(max_num(2, 3, 3))\n",
    "# should print \"It's a tie!\""
   ]
  }
 ],
 "metadata": {
  "kernelspec": {
   "display_name": "Python 3",
   "language": "python",
   "name": "python3"
  },
  "language_info": {
   "codemirror_mode": {
    "name": "ipython",
    "version": 3
   },
   "file_extension": ".py",
   "mimetype": "text/x-python",
   "name": "python",
   "nbconvert_exporter": "python",
   "pygments_lexer": "ipython3",
   "version": "3.7.1"
  }
 },
 "nbformat": 4,
 "nbformat_minor": 2
}
