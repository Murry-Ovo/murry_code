{
 "cells": [
  {
   "cell_type": "markdown",
   "metadata": {},
   "source": [
    "# Even More Functions And Loops Practice\n",
    "\n",
    "More challenges from Codecademy which test your ability to use loops and create functions\n",
    "\n"
   ]
  },
  {
   "cell_type": "markdown",
   "metadata": {},
   "source": [
    "### Divisible by Ten\n",
    "\n",
    "Create a function named divisible_by_ten() that takes a list of numbers named nums as a parameter.\n",
    "\n",
    "Return the count of how many numbers in the list are divisible by 10."
   ]
  },
  {
   "cell_type": "code",
   "execution_count": null,
   "metadata": {},
   "outputs": [],
   "source": [
    "#Write your function here\n",
    "\n",
    "def divisible_by_ten(nums):\n",
    "  new_list = []\n",
    "  for num in nums:\n",
    "    if num % 10 == 0:\n",
    "      new_list.append(num)\n",
    "    else:\n",
    "      pass\n",
    "  return len(new_list)      \n",
    "\n",
    "#Uncomment the line below when your function is done\n",
    "print(divisible_by_ten([20, 25, 30, 35, 40]))"
   ]
  },
  {
   "cell_type": "markdown",
   "metadata": {},
   "source": [
    "### Greetings\n",
    "\n",
    "Create a function named add_greetings() which takes a list of strings named names as a parameter.\n",
    "\n",
    "In the function, create an empty list that will contain each greeting. Add the string \"Hello, \" in front of each name in names and append the greeting to the list.\n",
    "\n",
    "Return the new list containing the greetings."
   ]
  },
  {
   "cell_type": "code",
   "execution_count": null,
   "metadata": {},
   "outputs": [],
   "source": [
    "#Write your function here\n",
    "\n",
    "def add_greetings(names):\n",
    "  new_list = []\n",
    "  for name in names:\n",
    "    greeting = 'Hello, ' + name\n",
    "    new_list.append(greeting)\n",
    "  return new_list  \n",
    "\n",
    "#Uncomment the line below when your function is done\n",
    "print(add_greetings([\"Owen\", \"Max\", \"Sophie\"]))"
   ]
  }
 ],
 "metadata": {
  "kernelspec": {
   "display_name": "Python 3",
   "language": "python",
   "name": "python3"
  },
  "language_info": {
   "codemirror_mode": {
    "name": "ipython",
    "version": 3
   },
   "file_extension": ".py",
   "mimetype": "text/x-python",
   "name": "python",
   "nbconvert_exporter": "python",
   "pygments_lexer": "ipython3",
   "version": "3.7.1"
  }
 },
 "nbformat": 4,
 "nbformat_minor": 4
}
