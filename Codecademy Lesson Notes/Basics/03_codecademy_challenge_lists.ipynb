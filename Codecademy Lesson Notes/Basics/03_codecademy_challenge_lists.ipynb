{
 "cells": [
  {
   "cell_type": "markdown",
   "metadata": {},
   "source": [
    "# Lists (and Functions)"
   ]
  },
  {
   "cell_type": "markdown",
   "metadata": {},
   "source": [
    "### List exercises\n",
    "\n",
    "inventory is a list of items that are in the warehouse for Bob’s Furniture.  \n",
    "\n",
    "1. How many items are in the warehouse? Save your answer to inventory_len\n",
    "2. Select the first element in inventory. Save it to the variable first\n",
    "3. Select the last item from inventory and save it to the variable last\n",
    "4. Select items from the inventory starting at index 2 and up to, but not including, index 6. Save your answer to inventory_2_6\n",
    "5. Select the first 3 items of inventory and save it to the variable first_3\n",
    "6. How many 'twin bed's are in inventory? Save your answer to twin_beds\n",
    "7. Sort inventory using .sort()"
   ]
  },
  {
   "cell_type": "code",
   "execution_count": null,
   "metadata": {},
   "outputs": [],
   "source": [
    "inventory = ['twin bed', 'twin bed', 'headboard', 'queen bed', 'king bed', 'dresser', 'dresser', 'table', 'table', 'nightstand', 'nightstand', 'king bed', 'king bed', 'twin bed', 'twin bed', 'sheets', 'sheets', 'pillow', 'pillow']\n",
    "\n",
    "#1. How many items are in the warehouse? Save your answer to inventory_len\n",
    "\n",
    "\n",
    "#2. Select the first element in inventory. Save it to the variable first\n",
    "\n",
    "\n",
    "#3. Select the last item from inventory and save it to the variable last\n",
    "\n",
    "\n",
    "#4. Select items from the inventory starting at index 2 and up to, but not including, index 6. # Save your answer to inventory_2_6\n",
    "\n",
    "\n",
    "#5. Select the first 3 items of inventory and save it to the variable first_3\n",
    "\n",
    "\n",
    "#6. How many 'twin bed's are in inventory? Save your answer to twin_beds\n",
    "\n",
    "\n",
    "#7. Sort inventory using .sort()\n"
   ]
  },
  {
   "cell_type": "markdown",
   "metadata": {},
   "source": [
    "## Lists and Functions"
   ]
  },
  {
   "cell_type": "markdown",
   "metadata": {},
   "source": [
    "### Double Index\n",
    "\n",
    "Create a function named double_index that has two parameters named lst and index .\n",
    "\n",
    "The function should double the value of the element at index of lst and return the new list with the doubled value.\n",
    "\n",
    "If index is not a valid index, the function should return the original list.\n",
    "\n",
    "After writing your function, un-comment the call to the function that we’ve provided for you to test your results."
   ]
  },
  {
   "cell_type": "code",
   "execution_count": null,
   "metadata": {},
   "outputs": [],
   "source": [
    "# Write your function here\n",
    "\n",
    "\n",
    "\n",
    "# Uncomment the line below when your function is done\n",
    "# print(double_index([3, 8, -10, 12], 2))\n"
   ]
  },
  {
   "cell_type": "markdown",
   "metadata": {},
   "source": [
    "## Remove Middle\n",
    "\n",
    "Create a function named remove_middle which has three parameters named lst, start, and end.\n",
    "\n",
    "The function should return a list where all elements in lst with an index between start and end (inclusive) have been removed.\n",
    "\n",
    "For example, the following code should return [4, 23, 42] because elements at indices 1, 2, and 3 have been removed:\n"
   ]
  },
  {
   "cell_type": "code",
   "execution_count": null,
   "metadata": {},
   "outputs": [],
   "source": [
    "# Write your function here\n",
    "\n",
    "\n",
    "\n",
    "# Uncomment the line below when your function is done\n",
    "# print(remove_middle([4, 8, 15, 16, 23, 42], 1, 3))\n"
   ]
  },
  {
   "cell_type": "markdown",
   "metadata": {},
   "source": [
    "## More Than n\n",
    "\n",
    "Create a function named more_than_n that has three parameters named lst, item, and n.\n",
    "\n",
    "The function should return True if item appears in the list more than n times. The function should return False otherwise.\n",
    "\n"
   ]
  },
  {
   "cell_type": "code",
   "execution_count": null,
   "metadata": {},
   "outputs": [],
   "source": [
    "# Write your function here\n",
    "\n",
    "\n",
    "\n",
    "# Uncomment the line below when your function is done\n",
    "# print(more_than_n([2, 4, 6, 2, 3, 2, 1, 2], 2, 3))"
   ]
  },
  {
   "cell_type": "markdown",
   "metadata": {},
   "source": [
    "## More Frequent Item\n",
    "\n",
    "Create a function named more_frequent_item that has three parameters named lst, item1, and item2.\n",
    "\n",
    "Return either item1 or item2 depending on which item appears more often in lst.\n",
    "\n",
    "If the two items appear the same number of times, return item1.\n"
   ]
  },
  {
   "cell_type": "code",
   "execution_count": null,
   "metadata": {},
   "outputs": [],
   "source": [
    "# Write your function here\n",
    "\n",
    "\n",
    "# Uncomment the line below when your function is done\n",
    "# print(more_frequent_item([2, 3, 3, 2, 3, 2, 3, 2, 3], 2, 3))"
   ]
  },
  {
   "cell_type": "markdown",
   "metadata": {},
   "source": [
    "## Middle Item\n",
    "\n",
    "Create a function called middle_element that has one parameter named lst.\n",
    "\n",
    "If there are an odd number of elements in lst, the function should return the middle element. If there are an even number of elements, the function should return the average of the middle two elements.\n"
   ]
  },
  {
   "cell_type": "code",
   "execution_count": null,
   "metadata": {},
   "outputs": [],
   "source": [
    "# Write your function here\n",
    "  \n",
    "\n",
    "# Uncomment the line below when your function is done\n",
    "# print(middle_element([5, 2, -10, -4, 4, 5]))"
   ]
  },
  {
   "cell_type": "markdown",
   "metadata": {},
   "source": [
    "## Append Sum\n",
    "\n",
    "Write a function named append_sum that has one parameter named lst.\n",
    "\n",
    "The function should add the last two elements of lst together and append the result to lst. It should do this process three times and then return lst.\n",
    "\n",
    "For example, if lst started as [1, 1, 2], the final result should be [1, 1, 2, 3, 5, 8].\n"
   ]
  },
  {
   "cell_type": "code",
   "execution_count": null,
   "metadata": {},
   "outputs": [],
   "source": [
    "# Write your function here\n",
    "\n",
    "# Uncomment the line below when your function is done\n",
    "# print(append_sum([1, 1, 2]))"
   ]
  },
  {
   "cell_type": "code",
   "execution_count": null,
   "metadata": {},
   "outputs": [],
   "source": []
  },
  {
   "cell_type": "code",
   "execution_count": null,
   "metadata": {},
   "outputs": [],
   "source": []
  }
 ],
 "metadata": {
  "kernelspec": {
   "display_name": "Python 3",
   "language": "python",
   "name": "python3"
  },
  "language_info": {
   "codemirror_mode": {
    "name": "ipython",
    "version": 3
   },
   "file_extension": ".py",
   "mimetype": "text/x-python",
   "name": "python",
   "nbconvert_exporter": "python",
   "pygments_lexer": "ipython3",
   "version": "3.7.1"
  }
 },
 "nbformat": 4,
 "nbformat_minor": 2
}
