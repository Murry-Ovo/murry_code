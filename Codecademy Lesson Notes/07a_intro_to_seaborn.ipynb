{
 "cells": [
  {
   "cell_type": "markdown",
   "metadata": {},
   "source": [
    "## Plotting bars with Seaborn"
   ]
  },
  {
   "cell_type": "code",
   "execution_count": 7,
   "metadata": {},
   "outputs": [
    {
     "name": "stdout",
     "output_type": "stream",
     "text": [
      "       Gender  Mean Satisfaction\n",
      "0        Male                7.2\n",
      "1      Female                8.1\n",
      "2  Non Binary                6.8\n"
     ]
    }
   ],
   "source": [
    "import pandas as pd\n",
    "\n",
    "# creating datframe for Plotting Bars with Seaborn\n",
    "gender_statisfaction_df = pd.DataFrame({\n",
    "  'Gender': ['Male', 'Female', 'Non Binary'],\n",
    "  'Mean Satisfaction': [7.2, 8.1, 6.8] \n",
    "    })\n",
    "\n",
    "# examining the results\n",
    "print(gender_statisfaction_df)"
   ]
  },
  {
   "cell_type": "code",
   "execution_count": 6,
   "metadata": {},
   "outputs": [
    {
     "name": "stdout",
     "output_type": "stream",
     "text": [
      "       Gender  Mean Satisfaction\n",
      "0        Male                7.2\n",
      "1      Female                8.1\n",
      "2  Non Binary                6.8\n"
     ]
    },
    {
     "data": {
      "image/png": "[encoded data removed]",
      "text/plain": [
       "<Figure size 432x288 with 1 Axes>"
      ]
     },
     "metadata": {
      "needs_background": "light"
     },
     "output_type": "display_data"
    }
   ],
   "source": [
    "# Plotting Bars with Seaborn\n",
    "\n",
    "from matplotlib import pyplot as plt\n",
    "import seaborn as sns\n",
    "\n",
    "# Loading results.csv here:\n",
    "# This is how you would get it from a CSV, but this csv does not exist do instead we will manually create the dataframe\n",
    "# import pandas as pd\n",
    "# gender_statisfaction_df = pd.read_csv(r\"C:\\Users\\Joe.Exotic\\Documents\\results.csv\") \n",
    "gender_statisfaction_df = gender_statisfaction_df\n",
    "\n",
    "# plotting on a bar chart\n",
    "sns.barplot(\n",
    "    data = gender_statisfaction_df ,\n",
    "    x = 'Gender' ,\n",
    "    y = 'Mean Satisfaction'\n",
    ")\n",
    "\n",
    "plt.show()"
   ]
  },
  {
   "cell_type": "markdown",
   "metadata": {},
   "source": [
    "## Understanding Aggregates"
   ]
  },
  {
   "cell_type": "code",
   "execution_count": 8,
   "metadata": {},
   "outputs": [
    {
     "name": "stdout",
     "output_type": "stream",
     "text": [
      "  student assignment_name  grade\n",
      "0     Amy    Assignment 1     75\n",
      "1     Amy    Assignment 2     82\n",
      "2     Bob    Assignment 1     99\n",
      "3     Bob    Assignment 2     90\n",
      "4   Chris    Assignment 1     72\n",
      "5   Chris    Assignment 2     66\n",
      "6     Dan    Assignment 1     88\n",
      "7     Dan    Assignment 2     82\n",
      "8   Ellie    Assignment 1     91\n",
      "9   Ellie    Assignment 2     85\n",
      "------------------\n",
      "<class 'pandas.core.frame.DataFrame'>\n",
      "RangeIndex: 10 entries, 0 to 9\n",
      "Data columns (total 3 columns):\n",
      "student            10 non-null object\n",
      "assignment_name    10 non-null object\n",
      "grade              10 non-null int64\n",
      "dtypes: int64(1), object(2)\n",
      "memory usage: 320.0+ bytes\n",
      "None\n"
     ]
    }
   ],
   "source": [
    "# Creating dataframe for Understanding Aggregates\n",
    "import pandas\n",
    "\n",
    "# creating the gradebookdata frame manually\n",
    "gradebook = pd.DataFrame({\n",
    "    'student': ['Amy','Amy','Bob','Bob','Chris','Chris','Dan','Dan','Ellie','Ellie'],\n",
    "    'assignment_name': ['Assignment 1','Assignment 2','Assignment 1','Assignment 2','Assignment 1','Assignment 2','Assignment 1','Assignment 2','Assignment 1','Assignment 2'],\n",
    "    'grade': [75,82,99,90,72,66,88,82,91,85]\n",
    "    })\n",
    "print(gradebook)\n",
    "print('------------------') # print break\n",
    "print(gradebook.info())\n"
   ]
  },
  {
   "cell_type": "code",
   "execution_count": 7,
   "metadata": {},
   "outputs": [
    {
     "name": "stdout",
     "output_type": "stream",
     "text": [
      "  student assignment_name  grade\n",
      "0     Amy    Assignment 1     75\n",
      "1     Amy    Assignment 2     82\n",
      "2     Bob    Assignment 1     99\n",
      "3     Bob    Assignment 2     90\n",
      "4   Chris    Assignment 1     72\n",
      "5   Chris    Assignment 2     66\n",
      "6     Dan    Assignment 1     88\n",
      "7     Dan    Assignment 2     82\n",
      "8   Ellie    Assignment 1     91\n",
      "9   Ellie    Assignment 2     85\n",
      "------------------\n",
      "  student assignment_name  grade\n",
      "0     Amy    Assignment 1     75\n",
      "2     Bob    Assignment 1     99\n",
      "4   Chris    Assignment 1     72\n",
      "6     Dan    Assignment 1     88\n",
      "8   Ellie    Assignment 1     91\n",
      "------------------\n",
      "The median grade for assignment 1 is: 88.0\n"
     ]
    }
   ],
   "source": [
    "import pandas as pd\n",
    "from matplotlib import pyplot as plt\n",
    "import numpy as np\n",
    "\n",
    "# loading the dataframe gradebook from csv\n",
    "# gradebook = pd.read_csv(r\"C:\\Users\\Carol.Baskin\\Documents\\gradebook.csv\")\n",
    "print(gradebook)\n",
    "\n",
    "# print break\n",
    "print('------------------')\n",
    "\n",
    "# # creating new dataframe which is only the assignment 1 rows \n",
    "assignment1 = gradebook[gradebook.assignment_name == 'Assignment 1']\n",
    "print(assignment1)\n",
    "\n",
    "# print break\n",
    "print('------------------')\n",
    "\n",
    "# # caculating the median grade for assignment 1\n",
    "asn1_median = np.median(assignment1.grade)\n",
    "print('The median grade for assignment 1 is: '+str(asn1_median))\n"
   ]
  },
  {
   "cell_type": "markdown",
   "metadata": {},
   "source": [
    "## Plotting Aggregates\n",
    "\n",
    "#### basic syntax:\n",
    "\n",
    "sns.barplot(data=insert_dataframe_name, x='insert_xaxis_column_name', y='insert_yaxis_column_name')\n",
    "            \n",
    "This will automatically aggregate the yseries data at based on the xseries group"
   ]
  },
  {
   "cell_type": "code",
   "execution_count": 10,
   "metadata": {},
   "outputs": [
    {
     "data": {
      "image/png": "[encoded data removed]",
      "text/plain": [
       "<Figure size 432x288 with 1 Axes>"
      ]
     },
     "metadata": {
      "needs_background": "light"
     },
     "output_type": "display_data"
    }
   ],
   "source": [
    "import pandas as pd\n",
    "from matplotlib import pyplot as plt\n",
    "import seaborn as sns\n",
    "\n",
    "# plotting the average grade for each assignment name\n",
    "sns.barplot(data = gradebook, \n",
    "            x = \"assignment_name\", \n",
    "            y = \"grade\")\n",
    "plt.show()"
   ]
  },
  {
   "cell_type": "markdown",
   "metadata": {},
   "source": [
    "## Calculating Different Aggregates\n",
    "\n",
    "If our data has many outliers, we may want to plot the median.  \n",
    "\n",
    "If our data is categorical, we might want to count how many times each category appears (such as in the case of survey responses).\n",
    "\n",
    "You can add 'estimator' to the argument and reference any aggregate function that wroks on a list, e.g. len, or np.median"
   ]
  },
  {
   "cell_type": "code",
   "execution_count": 11,
   "metadata": {},
   "outputs": [
    {
     "name": "stdout",
     "output_type": "stream",
     "text": [
      "   Patient ID  Gender Age Range  Response\n",
      "0        5031    Male   18 - 25         6\n",
      "1        4618  Female   18 - 25         4\n",
      "2        9074    Male   18 - 25         2\n",
      "3        2742    Male   18 - 25         4\n",
      "4        4004    Male   18 - 25         5\n"
     ]
    }
   ],
   "source": [
    "#importing 'test_data_survey_responses_seaborn' as survey_df\n",
    "\n",
    "import pandas as pd\n",
    "import os\n",
    "\n",
    "survey_df = pd.read_csv(r\"C:\\Users\\andrew.morris\\Documents\\GitHub\\murry_code\\Codecademy Lesson Notes\\test data\\test_data_survey_responses_seaborn.csv\")\n",
    "print(survey_df.head())\n"
   ]
  },
  {
   "cell_type": "code",
   "execution_count": 12,
   "metadata": {},
   "outputs": [
    {
     "data": {
      "image/png": "[encoded data removed]",
      "text/plain": [
       "<Figure size 432x288 with 2 Axes>"
      ]
     },
     "metadata": {
      "needs_background": "light"
     },
     "output_type": "display_data"
    }
   ],
   "source": [
    "import warnings\n",
    "warnings.filterwarnings('ignore')\n",
    "import numpy as np\n",
    "import pandas as pd\n",
    "from matplotlib import pyplot as plt\n",
    "import seaborn as sns\n",
    "\n",
    "# Creating a subplot to display 1 row, 2 plots position 1\n",
    "plt.subplot(1,2,1)\n",
    "plt.title('Median Response By Gender')\n",
    "sns.barplot(data = survey_df, \n",
    "            x = 'Gender', \n",
    "            y = 'Response', \n",
    "            estimator = np.median)\n",
    "\n",
    "# Creating a subplot to display 1 row, 2 plots position 2\n",
    "plt.subplot(1,2,2)\n",
    "plt.title('Surveys Answered By Gender')\n",
    "# Using len as the esitmator to calculate the number of times a particulat value appears in the response column\n",
    "sns.barplot(data = survey_df,\n",
    "            x = 'Gender',\n",
    "            y = 'Response',\n",
    "            estimator = len)\n",
    "\n",
    "# increasing the space between the 2 subplots\n",
    "plt.subplots_adjust(wspace = 0.5)\n",
    "\n",
    "plt.show()"
   ]
  },
  {
   "cell_type": "markdown",
   "metadata": {},
   "source": [
    "## Aggregating by Multiple Columns\n",
    "\n",
    "We can aggregate based on multiple columns by using the keyword 'hue' to add a second category/variable to aggregate by, e.g:  \n",
    "```Python  \n",
    "sns.barplot(data=df,\n",
    "            x=\"Gender\",\n",
    "            y=\"Response\",\n",
    "            hue=\"Age Range\")```\n",
    "  \n",
    "This will add a nested categorical variable to the plot. The second variable creates new coloured bars representing each age range.\n"
   ]
  },
  {
   "cell_type": "code",
   "execution_count": 15,
   "metadata": {},
   "outputs": [
    {
     "data": {
      "image/png": "[encoded data removed]",
      "text/plain": [
       "<Figure size 720x576 with 2 Axes>"
      ]
     },
     "metadata": {
      "needs_background": "light"
     },
     "output_type": "display_data"
    }
   ],
   "source": [
    "import pandas as pd\n",
    "from matplotlib import pyplot as plt\n",
    "import seaborn as sns\n",
    "\n",
    "plt.figure(figsize=(10,8))\n",
    "\n",
    "plt.subplot(2,1,1)\n",
    "plt.title('Survey Results by Age Range with Gender Nested')\n",
    "sns.barplot(data = survey_df,\n",
    "            x = 'Age Range',\n",
    "            y = 'Response',\n",
    "            hue = 'Gender')\n",
    "\n",
    "plt.subplot(2,1,2)\n",
    "plt.title('Survey Results by Gender with Age Range Nested')\n",
    "sns.barplot(data = survey_df,\n",
    "            x = 'Gender',\n",
    "            y = 'Response',\n",
    "            hue = 'Age Range')\n",
    "\n",
    "plt.subplots_adjust(hspace = 0.5)\n",
    "plt.show()\n",
    "\n",
    "# Which one of these is more useful? "
   ]
  }
 ],
 "metadata": {
  "kernelspec": {
   "display_name": "Python 3",
   "language": "python",
   "name": "python3"
  },
  "language_info": {
   "codemirror_mode": {
    "name": "ipython",
    "version": 3
   },
   "file_extension": ".py",
   "mimetype": "text/x-python",
   "name": "python",
   "nbconvert_exporter": "python",
   "pygments_lexer": "ipython3",
   "version": "3.7.1"
  }
 },
 "nbformat": 4,
 "nbformat_minor": 2
}
