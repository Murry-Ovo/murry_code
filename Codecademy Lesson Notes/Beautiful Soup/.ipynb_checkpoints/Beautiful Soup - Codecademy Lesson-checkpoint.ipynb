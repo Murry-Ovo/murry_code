{
 "cells": [
  {
   "cell_type": "markdown",
   "metadata": {},
   "source": [
    "# Beautiful Soup\n",
    "\n",
    "### Requests\n",
    "\n",
    "In order to get the HTML of the website, we need to make a request to get the content of the webpage. To learn more about requests in a general sense, you can check out this article.\n",
    "\n",
    "Python has a requests library that makes getting content really easy. All we have to do is import the library, and then feed in the URL we want to GET:\n",
    "```python \n",
    "import requests\n",
    "\n",
    "webpage = requests.get('https://www.codecademy.com/articles/http-requests')\n",
    "print(webpage.text)\n",
    "\n",
    "```\n",
    "This code will print out the HTML of the page.\n",
    "\n",
    "We don’t want to unleash a bunch of requests on any one website in this lesson, so for the rest of this lesson we will be scraping a local HTML file and pretending it’s an HTML file hosted online."
   ]
  },
  {
   "cell_type": "code",
   "execution_count": null,
   "metadata": {},
   "outputs": [],
   "source": [
    "import requests\n",
    "\n",
    "webpage_response = requests.get('https://content.codecademy.com/courses/beautifulsoup/shellter.html')\n",
    "\n",
    "webpage = webpage_response.content\n",
    "\n",
    "print(webpage)"
   ]
  },
  {
   "cell_type": "markdown",
   "metadata": {},
   "source": [
    "### The BeautifulSoup Object\n",
    "\n",
    "When we printed out all of that HTML from our request, it seemed pretty long and messy. How could we pull out the relevant information from that long string?\n",
    "\n",
    "BeautifulSoup is a Python library that makes it easy for us to traverse an HTML page and pull out the parts we’re interested in. We can import it by using the line:\n",
    "```pyhton\n",
    "from bs4 import BeautifulSoup \n",
    "```\n",
    "\n",
    "Then, all we have to do is convert the HTML document to a BeautifulSoup object!\n",
    "\n",
    "If this is our HTML file, rainbow.html:\n",
    "``` html\n",
    "<body>\n",
    "  <div>red</div>\n",
    "  <div>orange</div>\n",
    "  <div>yellow</div>\n",
    "  <div>green</div>\n",
    "  <div>blue</div>\n",
    "  <div>indigo</div>\n",
    "  <div>violet</div>\n",
    "</body>\n",
    "```\n",
    "```pyhton\n",
    "soup = BeautifulSoup(\"rainbow.html\", \"html.parser\")\n",
    "```\n",
    "\"html.parser\" is one option for parsers we could use. There are other options, like \"lxml\" and \"html5lib\" that have different advantages and disadvantages, but for our purposes we will be using \"html.parser\" throughout.\n",
    "\n",
    "With the requests skills we just learned, we can use a website hosted online as that HTML:\n",
    "```python\n",
    "webpage = requests.get(\"http://rainbow.com/rainbow.html\", \"html.parser\")\n",
    "soup = BeautifulSoup(webpage.content)\n",
    "When we use BeautifulSoup in combination with pandas, we can turn websites into DataFrames that are easy to manipulate and gain insights from.\n",
    "```\n",
    "#### Task\n",
    "\n",
    "1. Import the BeautifulSoup package.\n",
    "\n",
    "\n",
    "2. Create a BeautifulSoup object out of the webpage content and call it soup. Use \"html.parser\" as the parser. Print out soup! Look at how it contains all of the HTML of the page! We will learn how to traverse this content and find what we need in the next exercises."
   ]
  },
  {
   "cell_type": "code",
   "execution_count": null,
   "metadata": {},
   "outputs": [],
   "source": [
    "import requests\n",
    "from bs4 import BeautifulSoup \n",
    "\n",
    "webpage_response = requests.get('https://content.codecademy.com/courses/beautifulsoup/shellter.html')\n",
    "\n",
    "webpage = webpage_response.content\n",
    "\n",
    "soup = BeautifulSoup(webpage)\n",
    "\n",
    "print(soup)"
   ]
  },
  {
   "cell_type": "markdown",
   "metadata": {},
   "source": [
    "### Object Types\n",
    "BeautifulSoup breaks the HTML page into several types of objects.\n",
    "\n",
    "#### Tags\n",
    "A Tag corresponds to an HTML Tag in the original document. These lines of code:\n",
    "```python\n",
    "soup = BeautifulSoup('<div id=\"example\">An example div</div><p>An example p tag</p>')\n",
    "print(soup.div)\n",
    "```\n",
    "Would produce output that looks like:\n",
    "```text\n",
    "<div id=\"example\">An example div</div>\n",
    "```\n",
    "Accessing a tag from the BeautifulSoup object in this way will get the first tag of that type on the page.\n",
    "\n",
    "You can get the name of the tag using `.name` and a dictionary representing the attributes of the tag using `.attrs`:\n",
    "```python\n",
    "print(soup.div.name)\n",
    "print(soup.div.attrs)\n",
    "```\n",
    "```text\n",
    "div\n",
    "{'id': 'example'}\n",
    "```\n",
    "\n",
    "#### NavigableStrings\n",
    "NavigableStrings are the pieces of text that are in the HTML tags on the page. You can get the string inside of the tag by calling `.string`:\n",
    "``` python\n",
    "print(soup.div.string)\n",
    "```\n",
    "```text\n",
    "An example div\n",
    "```\n",
    "\n",
    "#### Tasks\n",
    "1. Print out the first p tag on the shellter.html page.\n",
    "\n",
    "2. Print out the string associated with the first p tag on the shellter.html page."
   ]
  },
  {
   "cell_type": "code",
   "execution_count": 2,
   "metadata": {},
   "outputs": [
    {
     "name": "stdout",
     "output_type": "stream",
     "text": [
      "<p class=\"text\">Click to learn more about each turtle</p>\n",
      "Click to learn more about each turtle\n"
     ]
    }
   ],
   "source": [
    "import requests\n",
    "from bs4 import BeautifulSoup\n",
    "\n",
    "webpage_response = requests.get('https://content.codecademy.com/courses/beautifulsoup/shellter.html')\n",
    "\n",
    "webpage = webpage_response.content\n",
    "soup = BeautifulSoup(webpage, \"html.parser\")\n",
    "\n",
    "print(soup.p)\n",
    "print(soup.p.string)\n"
   ]
  }
 ],
 "metadata": {
  "kernelspec": {
   "display_name": "Python 3",
   "language": "python",
   "name": "python3"
  },
  "language_info": {
   "codemirror_mode": {
    "name": "ipython",
    "version": 3
   },
   "file_extension": ".py",
   "mimetype": "text/x-python",
   "name": "python",
   "nbconvert_exporter": "python",
   "pygments_lexer": "ipython3",
   "version": "3.7.6"
  }
 },
 "nbformat": 4,
 "nbformat_minor": 4
}
